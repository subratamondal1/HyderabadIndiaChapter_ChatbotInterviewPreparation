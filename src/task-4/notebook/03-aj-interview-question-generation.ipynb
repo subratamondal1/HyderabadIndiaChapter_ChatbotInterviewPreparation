{
 "cells": [
  {
   "cell_type": "markdown",
   "metadata": {},
   "source": [
    "# 03 - Interview Question Generation\n",
    "`Author: Abdlazeez Jimoh`"
   ]
  },
  {
   "cell_type": "code",
   "execution_count": 1,
   "metadata": {},
   "outputs": [],
   "source": [
    "import json\n",
    "import importlib\n",
    "from typing import Optional\n",
    "\n",
    "from lib.agents import BaseAgent\n",
    "from lib.configs import PALM_API_KEY\n",
    "from lib.types import Question\n",
    "\n",
    "\n",
    "class PalmQuestionGeneratorAgent(BaseAgent):\n",
    "    def __init__(self):\n",
    "        super().__init__()\n",
    "        self.client = importlib.import_module(\"google.generativeai\")\n",
    "        self.client.configure(api_key=PALM_API_KEY)\n",
    "        self.system_prompt = \"\"\"You are a non-technical interviewer that interviews \\\n",
    "across the following categories:\n",
    "- personal\n",
    "- role-specific\n",
    "- behavioural\n",
    "- situational\n",
    "\n",
    "You will be provided with a candidate's description.\n",
    "\n",
    "Generate {n_questions} questions, ensuring that there is a question for each category \\\n",
    "and the questions should be based on the candidate's description.\n",
    "\n",
    "* You answer strictly as a list of JSON objects. Don't include any other verbose texts, \\\n",
    "and don't include the markdown syntax anywhere.\n",
    "\n",
    "JSON format:\n",
    "[\n",
    "    {{\"question\": \"<personal_question>\", \"type\": \"personal\"}},\n",
    "    {{\"question\": \"<role_specific_question>\", \"type\": \"role-specific\"}},\n",
    "    {{\"question\": \"<behavioural_question>\", \"type\": \"behavioural\"}},\n",
    "    {{\"question\": \"<situational_question>\", \"type\": \"situational\"}},\n",
    "    ...more questions to make up {n_questions} questions\n",
    "]\n",
    "\n",
    "\n",
    "===\n",
    "Candidate Description:\n",
    "{description}\"\"\"\n",
    "\n",
    "    def __call__(self, description: str, n_questions: int = 4) -> Optional[list[Question]]:\n",
    "        \"\"\"\n",
    "        Generate interview questions based on the given description.\n",
    "\n",
    "        Args:\n",
    "            description (str): The description used as input for question generation.\n",
    "            n_questions (int, optional): The number of questions to generate. Defaults to 4.\n",
    "\n",
    "        Returns:\n",
    "            Optional[list[Question]]: A list of generated interview questions or None if an error occurs.\n",
    "        \"\"\"\n",
    "\n",
    "        # Generate questions\n",
    "        questions = self._generate(description, n_questions)\n",
    "\n",
    "        return questions\n",
    "\n",
    "    def run(self, description: str, n_questions: int = 4) -> Optional[list[Question]]:\n",
    "        \"\"\"\n",
    "        Generate interview questions based on the given description.\n",
    "\n",
    "        Args:\n",
    "            description (str): The description used as input for question generation.\n",
    "            n_questions (int, optional): The number of questions to generate. Defaults to 4.\n",
    "\n",
    "        Returns:\n",
    "            Optional[list[Question]]: A list of generated interview questions or None if an error occurs.\n",
    "        \"\"\"\n",
    "\n",
    "        # Generate questions\n",
    "        questions = self._generate(description, n_questions)\n",
    "\n",
    "        return questions\n",
    "\n",
    "    def _generate(self, description: str, n_questions: int) -> Optional[list[Question]]:\n",
    "        \"\"\"\n",
    "        Generate interview questions based on the given description.\n",
    "\n",
    "        Args:\n",
    "            description (str): The description used as input for question generation.\n",
    "            n_questions (int): The number of questions to generate.\n",
    "\n",
    "        Returns:\n",
    "            Optional[list[Question]]: A list of generated interview questions or None if an error occurs.\n",
    "        \"\"\"\n",
    "\n",
    "        try:\n",
    "            # Ensure that there are at least 4 questions\n",
    "            if n_questions < 4:\n",
    "                n_questions = 4\n",
    "\n",
    "            output = self.client.generate_text(\n",
    "                model=\"models/text-bison-001\",\n",
    "                prompt=self.system_prompt.format(n_questions=n_questions, description=description),\n",
    "                temperature=1,\n",
    "                max_output_tokens=1024,\n",
    "            )\n",
    "            questions = json.loads(output.result)\n",
    "\n",
    "            return questions\n",
    "        except Exception as e:\n",
    "            print(e)\n",
    "            return None\n"
   ]
  },
  {
   "cell_type": "code",
   "execution_count": 2,
   "metadata": {},
   "outputs": [
    {
     "name": "stderr",
     "output_type": "stream",
     "text": [
      "/home/abdulazeezoj/Devspace/Work/omdena/local-chapter/india-chapter/chatbot-interview-prep/.venv/lib/python3.10/site-packages/tqdm/auto.py:21: TqdmWarning: IProgress not found. Please update jupyter and ipywidgets. See https://ipywidgets.readthedocs.io/en/stable/user_install.html\n",
      "  from .autonotebook import tqdm as notebook_tqdm\n"
     ]
    },
    {
     "name": "stdout",
     "output_type": "stream",
     "text": [
      "[{'question': 'Why are you leaving your current job?', 'type': 'personal'},\n",
      " {'question': 'What are your salary expectations?', 'type': 'role-specific'},\n",
      " {'question': 'What is your greatest weakness?', 'type': 'behavioural'},\n",
      " {'question': 'Tell me about a time when you had to work under pressure',\n",
      "  'type': 'situational'},\n",
      " {'question': 'What are your career goals?', 'type': 'personal'}]\n"
     ]
    }
   ],
   "source": [
    "from pprint import pprint\n",
    "\n",
    "\n",
    "question_generator = PalmQuestionGeneratorAgent()\n",
    "questions = question_generator.run(\n",
    "    \"a software engineer at a startup in San Francisco. I have 5 years of experience and I'm looking for a new job.\",\n",
    "    5,\n",
    ")\n",
    "\n",
    "pprint(questions)"
   ]
  },
  {
   "cell_type": "code",
   "execution_count": 3,
   "metadata": {},
   "outputs": [
    {
     "name": "stdout",
     "output_type": "stream",
     "text": [
      "[{'question': 'Why did you choose to become a data scientist?',\n",
      "  'type': 'personal'},\n",
      " {'question': 'What are your greatest strengths and weaknesses as a data '\n",
      "              'scientist?',\n",
      "  'type': 'personal'},\n",
      " {'question': 'What are your goals for the future?', 'type': 'personal'},\n",
      " {'question': 'What is your experience with machine learning?',\n",
      "  'type': 'role-specific'},\n",
      " {'question': 'What is your experience with big data technologies?',\n",
      "  'type': 'role-specific'},\n",
      " {'question': 'What is your experience with working in a team?',\n",
      "  'type': 'behavioural'},\n",
      " {'question': 'How do you handle stress?', 'type': 'behavioural'},\n",
      " {'question': 'Give me an example of a time when you had to make a difficult '\n",
      "              'decision',\n",
      "  'type': 'situational'},\n",
      " {'question': 'What are your thoughts on the ethics of using data science?',\n",
      "  'type': 'situational'}]\n"
     ]
    }
   ],
   "source": [
    "questions = question_generator.run(\n",
    "    \"a data scientist from India. I have 3 years of experience. I've worked on a variety of projects, including a recommendation engine for a large e-commerce company. I've led a team of 5 data scientists and engineers.\",\n",
    "    8\n",
    ")\n",
    "\n",
    "pprint(questions)"
   ]
  },
  {
   "cell_type": "code",
   "execution_count": null,
   "metadata": {},
   "outputs": [],
   "source": []
  }
 ],
 "metadata": {
  "kernelspec": {
   "display_name": ".venv",
   "language": "python",
   "name": "python3"
  },
  "language_info": {
   "codemirror_mode": {
    "name": "ipython",
    "version": 3
   },
   "file_extension": ".py",
   "mimetype": "text/x-python",
   "name": "python",
   "nbconvert_exporter": "python",
   "pygments_lexer": "ipython3",
   "version": "3.10.12"
  }
 },
 "nbformat": 4,
 "nbformat_minor": 2
}
