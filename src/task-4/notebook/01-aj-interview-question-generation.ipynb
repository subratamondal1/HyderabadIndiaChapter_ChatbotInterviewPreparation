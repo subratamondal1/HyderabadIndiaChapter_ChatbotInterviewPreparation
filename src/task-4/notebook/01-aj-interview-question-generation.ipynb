{
 "cells": [
  {
   "cell_type": "markdown",
   "metadata": {},
   "source": [
    "# 01 - Interview Question Generation\n",
    "`Author: Abdlazeez Jimoh`"
   ]
  },
  {
   "cell_type": "code",
   "execution_count": 2,
   "metadata": {},
   "outputs": [
    {
     "data": {
      "text/plain": [
       "True"
      ]
     },
     "execution_count": 2,
     "metadata": {},
     "output_type": "execute_result"
    }
   ],
   "source": [
    "from openai import OpenAI\n",
    "import json\n",
    "import pprint\n",
    "from dotenv import load_dotenv, find_dotenv\n",
    "\n",
    "load_dotenv(find_dotenv())"
   ]
  },
  {
   "cell_type": "code",
   "execution_count": 3,
   "metadata": {},
   "outputs": [],
   "source": [
    "client = OpenAI()"
   ]
  },
  {
   "cell_type": "code",
   "execution_count": 4,
   "metadata": {},
   "outputs": [],
   "source": [
    "class BaseAgent:\n",
    "    def __init__(self):\n",
    "        self.client = OpenAI()\n",
    "        self.system_prompt = None\n",
    "        self.user_prompt = None\n",
    "\n",
    "    def __call__(self, *args, **kwargs):\n",
    "        raise NotImplementedError\n",
    "\n",
    "\n",
    "class QuestionGeneratorAgent(BaseAgent):\n",
    "    def __init__(self):\n",
    "        super().__init__()\n",
    "        self.system_prompt = 'You are a non-technical interviewer that generate at least 4 interview questions across the following categories:\\n- personal\\n- role-specific\\n- behavioural\\n- situational\\n\\nMake sure there is a question for each category.\\n\\nYou answer strictly as single JSON string. Don\\'t include any other verbose texts and don\\'t include the markdown syntax anywhere.\\n\\nJSON format:\\n[{\"question\": \"<question>\", \"question_type\": \"<question_type>\"}]'\n",
    "        self.user_prompt = (\n",
    "            \"Create a list of {n_questions} questions for an interview with {description}.\"\n",
    "        )\n",
    "\n",
    "    def __call__(self, description: str, n_questions: int = 5) -> list[dict[str, str]]:\n",
    "        \"\"\"\n",
    "        Generate interview questions based on the given description.\n",
    "\n",
    "        Args:\n",
    "            description (str): The description used as input for question generation.\n",
    "            n_questions (int, optional): The number of questions to generate. Defaults to 5.\n",
    "\n",
    "        Returns:\n",
    "            list: A list of generated interview questions.\n",
    "        \"\"\"\n",
    "\n",
    "        # Generate questions\n",
    "        questions = self._generate(description, n_questions)\n",
    "\n",
    "        return questions\n",
    "\n",
    "    def run(self, description: str, n_questions: int = 5) -> list[dict[str, str]]:\n",
    "        \"\"\"\n",
    "        Generate interview questions based on the given description.\n",
    "\n",
    "        Args:\n",
    "            description (str): The description used as input for question generation.\n",
    "            n_questions (int, optional): The number of questions to generate. Defaults to 5.\n",
    "\n",
    "        Returns:\n",
    "            list: A list of generated interview questions.\n",
    "        \"\"\"\n",
    "\n",
    "        # Generate questions\n",
    "        questions = self._generate(description, n_questions)\n",
    "\n",
    "        return questions\n",
    "\n",
    "    def _generate(self, description: str, n_questions: int) -> list[dict[str, str]]:\n",
    "        \"\"\"\n",
    "        Generate interview questions based on the given description.\n",
    "\n",
    "        Args:\n",
    "            description (str): The description used as input for question generation.\n",
    "            n_questions (int): The number of questions to generate.\n",
    "\n",
    "        Returns:\n",
    "            list: A list of generated interview questions.\n",
    "        \"\"\"\n",
    "\n",
    "        try:\n",
    "            response = client.chat.completions.create(\n",
    "                model=\"gpt-3.5-turbo-1106\",\n",
    "                messages=[\n",
    "                    {\n",
    "                        \"role\": \"system\",\n",
    "                        \"content\": self.system_prompt,\n",
    "                    },\n",
    "                    {\n",
    "                        \"role\": \"user\",\n",
    "                        \"content\": self.user_prompt.format(\n",
    "                            n_questions=n_questions, description=description\n",
    "                        ),\n",
    "                    },\n",
    "                ],\n",
    "                temperature=0.5,\n",
    "                max_tokens=1024,\n",
    "                top_p=1,\n",
    "                frequency_penalty=0,\n",
    "                presence_penalty=0,\n",
    "            )\n",
    "            pprint.pprint(json.loads(response.choices[0].message.content or \"[]\"))\n",
    "\n",
    "            questions = json.loads(response.choices[0].message.content or \"[]\")\n",
    "\n",
    "            return questions\n",
    "        except Exception as e:\n",
    "            print(e)\n",
    "            return []"
   ]
  },
  {
   "cell_type": "code",
   "execution_count": 5,
   "metadata": {},
   "outputs": [
    {
     "name": "stdout",
     "output_type": "stream",
     "text": [
      "[{'question': 'Tell me about a time when you had to work under a tight '\n",
      "              'deadline. How did you manage your time and prioritize tasks?',\n",
      "  'question_type': 'behavioural'},\n",
      " {'question': 'Can you describe a challenging technical problem you faced in '\n",
      "              'your previous role and how you approached solving it?',\n",
      "  'question_type': 'role-specific'},\n",
      " {'question': 'How do you stay updated with the latest technologies and trends '\n",
      "              'in the software development industry?',\n",
      "  'question_type': 'personal'},\n",
      " {'question': 'Imagine you are working on a project and a team member is '\n",
      "              'consistently not meeting deadlines. How would you address this '\n",
      "              'situation?',\n",
      "  'question_type': 'situational'}]\n",
      "[{'question': 'Tell me about a time when you had to work under a tight deadline. How did you manage your time and prioritize tasks?', 'question_type': 'behavioural'}, {'question': 'Can you describe a challenging technical problem you faced in your previous role and how you approached solving it?', 'question_type': 'role-specific'}, {'question': 'How do you stay updated with the latest technologies and trends in the software development industry?', 'question_type': 'personal'}, {'question': 'Imagine you are working on a project and a team member is consistently not meeting deadlines. How would you address this situation?', 'question_type': 'situational'}]\n"
     ]
    }
   ],
   "source": [
    "question_generator = QuestionGeneratorAgent()\n",
    "questions = question_generator.run(\n",
    "    \"a software engineer at a startup in San Francisco. I have 5 years of experience and I'm looking for a new job.\"\n",
    ")\n",
    "\n",
    "print(questions)"
   ]
  }
 ],
 "metadata": {
  "kernelspec": {
   "display_name": ".venv",
   "language": "python",
   "name": "python3"
  },
  "language_info": {
   "codemirror_mode": {
    "name": "ipython",
    "version": 3
   },
   "file_extension": ".py",
   "mimetype": "text/x-python",
   "name": "python",
   "nbconvert_exporter": "python",
   "pygments_lexer": "ipython3",
   "version": "3.10.12"
  }
 },
 "nbformat": 4,
 "nbformat_minor": 2
}
