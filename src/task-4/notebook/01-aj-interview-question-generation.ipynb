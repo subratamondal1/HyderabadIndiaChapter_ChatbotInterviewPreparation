{
 "cells": [
  {
   "cell_type": "markdown",
   "metadata": {},
   "source": [
    "# 01 - OpenAI Interview Question Generation\n",
    "`Author: Abdlazeez Jimoh`"
   ]
  },
  {
   "cell_type": "code",
   "execution_count": 1,
   "metadata": {},
   "outputs": [],
   "source": [
    "import json\n",
    "from pprint import pprint\n",
    "\n",
    "from openai import OpenAI\n",
    "from typing import Literal, TypedDict"
   ]
  },
  {
   "cell_type": "code",
   "execution_count": 2,
   "metadata": {},
   "outputs": [],
   "source": [
    "OPENAI_API_KEY = \"YOUR_API_KEY\""
   ]
  },
  {
   "cell_type": "code",
   "execution_count": 3,
   "metadata": {},
   "outputs": [],
   "source": [
    "class Question(TypedDict):\n",
    "    question: str\n",
    "    type: Literal[\"personal\", \"role-specific\", \"behavioral\", \"situational\"]"
   ]
  },
  {
   "cell_type": "code",
   "execution_count": 4,
   "metadata": {},
   "outputs": [],
   "source": [
    "class OpenAIQuestionGeneratorAgent():\n",
    "    def __init__(self):\n",
    "        super().__init__()\n",
    "        self.client = OpenAI(api_key=OPENAI_API_KEY)\n",
    "        self.system_prompt = \"\"\"You are a non-technical interviewer that interviews \\\n",
    "across the following categories:\n",
    "- personal\n",
    "- role-specific\n",
    "- behavioural\n",
    "- situational\n",
    "\n",
    "You will be provided with a candidate's description.\n",
    "\n",
    "Generate {n_questions} questions, ensuring that there is a question for each category \\\n",
    "and the questions should be based on the candidate's description.\n",
    "\n",
    "* You answer strictly as a list of JSON objects. Don't include any other verbose texts, \\\n",
    "and don't include the markdown syntax anywhere.\n",
    "\n",
    "JSON format:\n",
    "[\n",
    "    {{\"question\": \"<personal_question>\", \"type\": \"personal\"}},\n",
    "    {{\"question\": \"<role_specific_question>\", \"type\": \"role-specific\"}},\n",
    "    {{\"question\": \"<behavioural_question>\", \"type\": \"behavioural\"}},\n",
    "    {{\"question\": \"<situational_question>\", \"type\": \"situational\"}},\n",
    "    ...more questions to make up {n_questions} questions\n",
    "]\"\"\"\n",
    "\n",
    "        self.user_prompt = \"Candidate Description:\\n{description}\"\n",
    "\n",
    "    def __call__(self, description: str, n_questions: int = 4) -> list[Question] | None:\n",
    "        \"\"\"\n",
    "        Generate interview questions based on the given description.\n",
    "\n",
    "        Args:\n",
    "            description (str): The description used as input for question generation.\n",
    "            n_questions (int, optional): The number of questions to generate. Defaults to 4.\n",
    "\n",
    "        Returns:\n",
    "            list[Question] | None: A list of generated interview questions or None if an error occurs.\n",
    "        \"\"\"\n",
    "\n",
    "        # Generate questions\n",
    "        questions = self._generate(description, n_questions)\n",
    "\n",
    "        return questions\n",
    "\n",
    "    def run(self, description: str, n_questions: int = 4) -> list[Question] | None:\n",
    "        \"\"\"\n",
    "        Generate interview questions based on the given description.\n",
    "\n",
    "        Args:\n",
    "            description (str): The description used as input for question generation.\n",
    "            n_questions (int, optional): The number of questions to generate. Defaults to 4.\n",
    "\n",
    "        Returns:\n",
    "            list[Question] | None: A list of generated interview questions or None if an error occurs.\n",
    "        \"\"\"\n",
    "\n",
    "        # Generate questions\n",
    "        questions = self._generate(description, n_questions)\n",
    "\n",
    "        return questions\n",
    "\n",
    "    def _generate(self, description: str, n_questions: int) -> list[Question] | None:\n",
    "        \"\"\"\n",
    "        Generate interview questions based on the given description.\n",
    "\n",
    "        Args:\n",
    "            description (str): The description used as input for question generation.\n",
    "            n_questions (int): The number of questions to generate.\n",
    "\n",
    "        Returns:\n",
    "            list[Question] | None: A list of generated interview questions or None if an error occurs.\n",
    "        \"\"\"\n",
    "\n",
    "        try:\n",
    "            # Ensure that there are at least 4 questions\n",
    "            if n_questions < 4:\n",
    "                n_questions = 4\n",
    "\n",
    "            output = self.client.chat.completions.create(\n",
    "                model=\"gpt-3.5-turbo-1106\",\n",
    "                messages=[\n",
    "                    {\n",
    "                        \"role\": \"system\",\n",
    "                        \"content\": self.system_prompt.format(n_questions=n_questions),\n",
    "                    },\n",
    "                    {\n",
    "                        \"role\": \"user\",\n",
    "                        \"content\": self.user_prompt.format(description=description),\n",
    "                    },\n",
    "                ],\n",
    "                temperature=0.5,\n",
    "                max_tokens=1024,\n",
    "                top_p=1,\n",
    "                frequency_penalty=0,\n",
    "                presence_penalty=0,\n",
    "            )\n",
    "            questions = json.loads(output.choices[0].message.content or \"[]\")\n",
    "\n",
    "            return questions\n",
    "        except Exception as e:\n",
    "            return None"
   ]
  },
  {
   "cell_type": "code",
   "execution_count": 5,
   "metadata": {},
   "outputs": [
    {
     "name": "stdout",
     "output_type": "stream",
     "text": [
      "[{'question': 'What motivated you to pursue a career in software engineering?',\n",
      "  'type': 'personal'},\n",
      " {'question': 'Can you describe a challenging technical problem you solved at '\n",
      "              'your current startup and how you approached it?',\n",
      "  'type': 'role-specific'},\n",
      " {'question': 'Tell me about a time when you had to work on a project with a '\n",
      "              'tight deadline. How did you manage your time and prioritize '\n",
      "              'tasks?',\n",
      "  'type': 'behavioural'},\n",
      " {'question': 'You are joining a new team where the existing codebase is '\n",
      "              'outdated. How would you approach the situation and contribute '\n",
      "              'effectively to the project?',\n",
      "  'type': 'situational'}]\n"
     ]
    }
   ],
   "source": [
    "question_generator = OpenAIQuestionGeneratorAgent()\n",
    "questions = question_generator.run(\n",
    "    \"a software engineer at a startup in San Francisco. I have 5 years of experience and I'm looking for a new job.\",\n",
    "    5\n",
    ")\n",
    "\n",
    "pprint(questions)"
   ]
  },
  {
   "cell_type": "code",
   "execution_count": 6,
   "metadata": {},
   "outputs": [
    {
     "name": "stdout",
     "output_type": "stream",
     "text": [
      "[{'question': 'What inspired you to pursue a career in data science?',\n",
      "  'type': 'personal'},\n",
      " {'question': 'Can you discuss a specific project where you implemented a '\n",
      "              'recommendation engine? What were the challenges and how did you '\n",
      "              'overcome them?',\n",
      "  'type': 'role-specific'},\n",
      " {'question': 'Tell me about a time when you had to lead a team to achieve a '\n",
      "              'challenging goal. How did you motivate and guide your team '\n",
      "              'members?',\n",
      "  'type': 'behavioural'},\n",
      " {'question': 'You have experience working on diverse projects. How do you '\n",
      "              'prioritize and manage your time when juggling multiple '\n",
      "              'projects?',\n",
      "  'type': 'situational'},\n",
      " {'question': 'What are your career goals and how do you see yourself '\n",
      "              'progressing in the field of data science?',\n",
      "  'type': 'personal'},\n",
      " {'question': 'What techniques or methodologies do you typically use when '\n",
      "              'approaching a new data science project?',\n",
      "  'type': 'role-specific'},\n",
      " {'question': 'Describe a situation where you had to adapt to a sudden change '\n",
      "              'in project requirements. How did you handle it and ensure the '\n",
      "              \"project's success?\",\n",
      "  'type': 'behavioural'},\n",
      " {'question': 'If you were to mentor a junior data scientist, what advice or '\n",
      "              'guidance would you offer to help them succeed in this field?',\n",
      "  'type': 'situational'}]\n"
     ]
    }
   ],
   "source": [
    "questions = question_generator.run(\n",
    "    \"a data scientist from India. I have 3 years of experience. I've worked on a variety of projects, including a recommendation engine for a large e-commerce company. I've led a team of 5 data scientists and engineers.\",\n",
    "    8\n",
    ")\n",
    "\n",
    "pprint(questions)"
   ]
  },
  {
   "cell_type": "code",
   "execution_count": null,
   "metadata": {},
   "outputs": [],
   "source": []
  }
 ],
 "metadata": {
  "kernelspec": {
   "display_name": ".venv",
   "language": "python",
   "name": "python3"
  },
  "language_info": {
   "codemirror_mode": {
    "name": "ipython",
    "version": 3
   },
   "file_extension": ".py",
   "mimetype": "text/x-python",
   "name": "python",
   "nbconvert_exporter": "python",
   "pygments_lexer": "ipython3",
   "version": "3.10.12"
  }
 },
 "nbformat": 4,
 "nbformat_minor": 2
}
