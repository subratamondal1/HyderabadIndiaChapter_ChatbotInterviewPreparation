{
 "cells": [
  {
   "cell_type": "markdown",
   "metadata": {},
   "source": [
    "# 05 - Cohere Interview Question Generation\n",
    "`Author: Abdlazeez Jimoh`"
   ]
  },
  {
   "cell_type": "code",
   "execution_count": 1,
   "metadata": {},
   "outputs": [],
   "source": [
    "import json\n",
    "from pprint import pprint\n",
    "from typing import Literal, TypedDict\n",
    "\n",
    "import cohere"
   ]
  },
  {
   "cell_type": "code",
   "execution_count": 2,
   "metadata": {},
   "outputs": [],
   "source": [
    "COHERE_API_KEY = \"YOUR_API_KEY\""
   ]
  },
  {
   "cell_type": "code",
   "execution_count": 3,
   "metadata": {},
   "outputs": [],
   "source": [
    "class Question(TypedDict):\n",
    "    question: str\n",
    "    type: Literal[\"personal\", \"role-specific\", \"behavioral\", \"situational\"]\n"
   ]
  },
  {
   "cell_type": "code",
   "execution_count": 8,
   "metadata": {},
   "outputs": [],
   "source": [
    "class CohereQuestionGeneratorAgent:\n",
    "    def __init__(self):\n",
    "        self.client = cohere.Client(COHERE_API_KEY)\n",
    "        self.system_prompt = \"\"\"You are a non-technical interviewer that interviews \\\n",
    "across the following categories:\n",
    "- personal\n",
    "- role-specific\n",
    "- behavioural\n",
    "- situational\n",
    "\n",
    "You will be provided with a candidate's description.\n",
    "\n",
    "Generate {n_questions} questions, ensuring that there is a question for each category \\\n",
    "and the questions should be based on the candidate's description.\n",
    "\n",
    "* You answer strictly as a list of JSON objects. Don't include any other verbose texts, \\\n",
    "and don't include the markdown syntax anywhere.\n",
    "\n",
    "JSON format:\n",
    "[\n",
    "    {{\"question\": \"<personal_question>\", \"type\": \"personal\"}},\n",
    "    {{\"question\": \"<role_specific_question>\", \"type\": \"role-specific\"}},\n",
    "    {{\"question\": \"<behavioural_question>\", \"type\": \"behavioural\"}},\n",
    "    {{\"question\": \"<situational_question>\", \"type\": \"situational\"}},\n",
    "    ...more questions to make up {n_questions} questions\n",
    "]\n",
    "\n",
    "\n",
    "===\n",
    "Candidate Description:\n",
    "{description}\"\"\"\n",
    "\n",
    "    def __call__(self, description: str, n_questions: int = 4) -> list[Question] | None:\n",
    "        \"\"\"\n",
    "        Generate interview questions based on the given description.\n",
    "\n",
    "        Args:\n",
    "            description (str): The description used as input for question generation.\n",
    "            n_questions (int, optional): The number of questions to generate. Defaults to 4.\n",
    "\n",
    "        Returns:\n",
    "            list[Question] | None: A list of generated interview questions or None if an error occurs.\n",
    "        \"\"\"\n",
    "\n",
    "        # Generate questions\n",
    "        questions = self._generate(description, n_questions)\n",
    "\n",
    "        return questions\n",
    "\n",
    "    def run(self, description: str, n_questions: int = 4) -> list[Question] | None:\n",
    "        \"\"\"\n",
    "        Generate interview questions based on the given description.\n",
    "\n",
    "        Args:\n",
    "            description (str): The description used as input for question generation.\n",
    "            n_questions (int, optional): The number of questions to generate. Defaults to 4.\n",
    "\n",
    "        Returns:\n",
    "            list[Question] | None: A list of generated interview questions or None if an error occurs.\n",
    "        \"\"\"\n",
    "\n",
    "        # Generate questions\n",
    "        questions = self._generate(description, n_questions)\n",
    "\n",
    "        return questions\n",
    "\n",
    "    def _generate(self, description: str, n_questions: int) -> list[Question] | None:\n",
    "        \"\"\"\n",
    "        Generate interview questions based on the given description.\n",
    "\n",
    "        Args:\n",
    "            description (str): The description used as input for question generation.\n",
    "            n_questions (int): The number of questions to generate.\n",
    "\n",
    "        Returns:\n",
    "            list[Question] | None: A list of generated interview questions or None if an error occurs.\n",
    "        \"\"\"\n",
    "\n",
    "        try:\n",
    "            # Ensure that there are at least 4 questions\n",
    "            if n_questions < 4:\n",
    "                n_questions = 4\n",
    "\n",
    "            output = self.client.generate(\n",
    "                model=\"command\",\n",
    "                prompt=self.system_prompt.format(n_questions=n_questions, description=description),\n",
    "                temperature=1,\n",
    "                max_tokens=1024,\n",
    "            )\n",
    "            questions = json.loads(output.generations[0].text)\n",
    "\n",
    "            return questions\n",
    "        except Exception as e:\n",
    "            print(e)\n",
    "            return None"
   ]
  },
  {
   "cell_type": "code",
   "execution_count": 9,
   "metadata": {},
   "outputs": [
    {
     "name": "stdout",
     "output_type": "stream",
     "text": [
      "[{'question': 'What motivated you to leave your previous role and seek out a '\n",
      "              'new opportunity at our company?',\n",
      "  'type': 'personal'},\n",
      " {'question': 'Can you describe a time when you had to manage a heavy '\n",
      "              'workload? How did you prioritize your tasks?',\n",
      "  'type': 'role-specific'},\n",
      " {'question': 'Tell me about a time when you collaborated with a team to solve '\n",
      "              'a complex problem. What was your role in this collaboration?',\n",
      "  'type': 'behavioural'},\n",
      " {'question': 'How do you approach learning about and adopting new programming '\n",
      "              'languages or technologies?',\n",
      "  'type': 'role-specific'},\n",
      " {'question': 'Describe a situation where you had to troubleshoot a '\n",
      "              'particularly difficult issue. What steps did you take to '\n",
      "              'identify and resolve the problem?',\n",
      "  'type': 'behavioural'},\n",
      " {'question': 'At your current or previous company, how did you ensure that '\n",
      "              'you were keeping up-to-date with industry trends and changes in '\n",
      "              'technology?',\n",
      "  'type': 'situational'}]\n"
     ]
    }
   ],
   "source": [
    "question_generator = CohereQuestionGeneratorAgent()\n",
    "questions = question_generator.run(\n",
    "    \"a software engineer at a startup in San Francisco. I have 5 years of experience and I'm looking for a new job.\",\n",
    "    5,\n",
    ")\n",
    "\n",
    "pprint(questions)"
   ]
  },
  {
   "cell_type": "code",
   "execution_count": 10,
   "metadata": {},
   "outputs": [
    {
     "name": "stdout",
     "output_type": "stream",
     "text": [
      "[{'question': 'Could you tell me about a time when you used creativity to '\n",
      "              'solve a problem in your work? What was the issue you were '\n",
      "              'facing and how did your solution improve the situation?',\n",
      "  'type': 'behavioural'},\n",
      " {'question': 'What is the most interesting project you have worked on so far '\n",
      "              'and why?',\n",
      "  'type': 'personal'},\n",
      " {'question': 'As a Data Scientist, how do you ensure that your team members '\n",
      "              'have adequate support and resources to complete their projects?',\n",
      "  'type': 'role-specific'},\n",
      " {'question': 'What risks have you encountered in your previous projects? How '\n",
      "              'did you manage or mitigate these risks?',\n",
      "  'type': 'behavioural'},\n",
      " {'question': 'Describe a time when you had to present your findings to a '\n",
      "              'non-technical audience. How did you convey your ideas clearly '\n",
      "              'and effectively?',\n",
      "  'type': 'behavioural'},\n",
      " {'question': 'What is your approach to keeping up to date with industry '\n",
      "              'trends and new developments in data science and analytics?',\n",
      "  'type': 'personal'},\n",
      " {'question': \"How do you ensure that your work aligns with the company's \"\n",
      "              'larger business goals?',\n",
      "  'type': 'role-specific'},\n",
      " {'question': 'Tell me about a time you failed and how you dealt with it.',\n",
      "  'type': 'behavioural'},\n",
      " {'question': 'How do you approach building trust and maintaining effective '\n",
      "              'communication with your team members, especially when working '\n",
      "              'on collaborative projects?',\n",
      "  'type': 'behavioural'}]\n"
     ]
    }
   ],
   "source": [
    "questions = question_generator.run(\n",
    "    \"a data scientist from India. I have 3 years of experience. I've worked on a variety of projects, including a recommendation engine for a large e-commerce company. I've led a team of 5 data scientists and engineers.\",\n",
    "    8\n",
    ")\n",
    "\n",
    "pprint(questions)"
   ]
  },
  {
   "cell_type": "code",
   "execution_count": null,
   "metadata": {},
   "outputs": [],
   "source": []
  }
 ],
 "metadata": {
  "kernelspec": {
   "display_name": ".venv",
   "language": "python",
   "name": "python3"
  },
  "language_info": {
   "codemirror_mode": {
    "name": "ipython",
    "version": 3
   },
   "file_extension": ".py",
   "mimetype": "text/x-python",
   "name": "python",
   "nbconvert_exporter": "python",
   "pygments_lexer": "ipython3",
   "version": "3.10.12"
  }
 },
 "nbformat": 4,
 "nbformat_minor": 2
}
