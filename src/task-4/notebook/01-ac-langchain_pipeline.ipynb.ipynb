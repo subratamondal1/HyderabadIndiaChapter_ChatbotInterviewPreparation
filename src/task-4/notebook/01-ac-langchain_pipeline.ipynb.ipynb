            {
  "cells": [
    {
      "cell_type": "markdown",
      "metadata": {
        "id": "LEq8We9Nam00"
      },
      "source": [
        "#1-Chatbot_InterviewPreparation"
      ]
    },
    {
      "cell_type": "code",
      "execution_count": 1,
      "metadata": {
        "colab": {
          "base_uri": "https://localhost:8080/"
        },
        "id": "Z9BYH0Yrkf-Q",
        "outputId": "5628cb2c-eafb-48aa-9431-847e99f7cc45"
      },
      "outputs": [
        {
          "name": "stdout",
          "output_type": "stream",
          "text": [
            "Collecting openai\n",
            "  Downloading openai-1.3.5-py3-none-any.whl (220 kB)\n",
            "\u001b[2K     \u001b[90m━━━━━━━━━━━━━━━━━━━━━━━━━━━━━━━━━━━━━━━━\u001b[0m \u001b[32m220.8/220.8 kB\u001b[0m \u001b[31m5.1 MB/s\u001b[0m eta \u001b[36m0:00:00\u001b[0m\n",
            "\u001b[?25hRequirement already satisfied: anyio<4,>=3.5.0 in /usr/local/lib/python3.10/dist-packages (from openai) (3.7.1)\n",
            "Requirement already satisfied: distro<2,>=1.7.0 in /usr/lib/python3/dist-packages (from openai) (1.7.0)\n",
            "Collecting httpx<1,>=0.23.0 (from openai)\n",
            "  Downloading httpx-0.25.2-py3-none-any.whl (74 kB)\n",
            "\u001b[2K     \u001b[90m━━━━━━━━━━━━━━━━━━━━━━━━━━━━━━━━━━━━━━━━\u001b[0m \u001b[32m75.0/75.0 kB\u001b[0m \u001b[31m5.1 MB/s\u001b[0m eta \u001b[36m0:00:00\u001b[0m\n",
            "\u001b[?25hRequirement already satisfied: pydantic<3,>=1.9.0 in /usr/local/lib/python3.10/dist-packages (from openai) (1.10.13)\n",
            "Requirement already satisfied: tqdm>4 in /usr/local/lib/python3.10/dist-packages (from openai) (4.66.1)\n",
            "Requirement already satisfied: typing-extensions<5,>=4.5 in /usr/local/lib/python3.10/dist-packages (from openai) (4.5.0)\n",
            "Requirement already satisfied: idna>=2.8 in /usr/local/lib/python3.10/dist-packages (from anyio<4,>=3.5.0->openai) (3.4)\n",
            "Requirement already satisfied: sniffio>=1.1 in /usr/local/lib/python3.10/dist-packages (from anyio<4,>=3.5.0->openai) (1.3.0)\n",
            "Requirement already satisfied: exceptiongroup in /usr/local/lib/python3.10/dist-packages (from anyio<4,>=3.5.0->openai) (1.1.3)\n",
            "Requirement already satisfied: certifi in /usr/local/lib/python3.10/dist-packages (from httpx<1,>=0.23.0->openai) (2023.7.22)\n",
            "Collecting httpcore==1.* (from httpx<1,>=0.23.0->openai)\n",
            "  Downloading httpcore-1.0.2-py3-none-any.whl (76 kB)\n",
            "\u001b[2K     \u001b[90m━━━━━━━━━━━━━━━━━━━━━━━━━━━━━━━━━━━━━━━━\u001b[0m \u001b[32m76.9/76.9 kB\u001b[0m \u001b[31m6.7 MB/s\u001b[0m eta \u001b[36m0:00:00\u001b[0m\n",
            "\u001b[?25hCollecting h11<0.15,>=0.13 (from httpcore==1.*->httpx<1,>=0.23.0->openai)\n",
            "  Downloading h11-0.14.0-py3-none-any.whl (58 kB)\n",
            "\u001b[2K     \u001b[90m━━━━━━━━━━━━━━━━━━━━━━━━━━━━━━━━━━━━━━━━\u001b[0m \u001b[32m58.3/58.3 kB\u001b[0m \u001b[31m8.5 MB/s\u001b[0m eta \u001b[36m0:00:00\u001b[0m\n",
            "\u001b[?25hInstalling collected packages: h11, httpcore, httpx, openai\n",
            "\u001b[31mERROR: pip's dependency resolver does not currently take into account all the packages that are installed. This behaviour is the source of the following dependency conflicts.\n",
            "llmx 0.0.15a0 requires cohere, which is not installed.\n",
            "llmx 0.0.15a0 requires tiktoken, which is not installed.\u001b[0m\u001b[31m\n",
            "\u001b[0mSuccessfully installed h11-0.14.0 httpcore-1.0.2 httpx-0.25.2 openai-1.3.5\n",
            "Collecting langchain\n",
            "  Downloading langchain-0.0.342-py3-none-any.whl (1.9 MB)\n",
            "\u001b[2K     \u001b[90m━━━━━━━━━━━━━━━━━━━━━━━━━━━━━━━━━━━━━━━━\u001b[0m \u001b[32m1.9/1.9 MB\u001b[0m \u001b[31m28.9 MB/s\u001b[0m eta \u001b[36m0:00:00\u001b[0m\n",
            "\u001b[?25hRequirement already satisfied: PyYAML>=5.3 in /usr/local/lib/python3.10/dist-packages (from langchain) (6.0.1)\n",
            "Requirement already satisfied: SQLAlchemy<3,>=1.4 in /usr/local/lib/python3.10/dist-packages (from langchain) (2.0.23)\n",
            "Requirement already satisfied: aiohttp<4.0.0,>=3.8.3 in /usr/local/lib/python3.10/dist-packages (from langchain) (3.8.6)\n",
            "Requirement already satisfied: anyio<4.0 in /usr/local/lib/python3.10/dist-packages (from langchain) (3.7.1)\n",
            "Requirement already satisfied: async-timeout<5.0.0,>=4.0.0 in /usr/local/lib/python3.10/dist-packages (from langchain) (4.0.3)\n",
            "Collecting dataclasses-json<0.7,>=0.5.7 (from langchain)\n",
            "  Downloading dataclasses_json-0.6.3-py3-none-any.whl (28 kB)\n",
            "Collecting jsonpatch<2.0,>=1.33 (from langchain)\n",
            "  Downloading jsonpatch-1.33-py2.py3-none-any.whl (12 kB)\n",
            "Collecting langchain-core<0.1,>=0.0.7 (from langchain)\n",
            "  Downloading langchain_core-0.0.7-py3-none-any.whl (177 kB)\n",
            "\u001b[2K     \u001b[90m━━━━━━━━━━━━━━━━━━━━━━━━━━━━━━━━━━━━━━━━\u001b[0m \u001b[32m177.5/177.5 kB\u001b[0m \u001b[31m30.5 MB/s\u001b[0m eta \u001b[36m0:00:00\u001b[0m\n",
            "\u001b[?25hCollecting langsmith<0.1.0,>=0.0.63 (from langchain)\n",
            "  Downloading langsmith-0.0.67-py3-none-any.whl (47 kB)\n",
            "\u001b[2K     \u001b[90m━━━━━━━━━━━━━━━━━━━━━━━━━━━━━━━━━━━━━━━━\u001b[0m \u001b[32m47.0/47.0 kB\u001b[0m \u001b[31m8.3 MB/s\u001b[0m eta \u001b[36m0:00:00\u001b[0m\n",
            "\u001b[?25hRequirement already satisfied: numpy<2,>=1 in /usr/local/lib/python3.10/dist-packages (from langchain) (1.23.5)\n",
            "Requirement already satisfied: pydantic<3,>=1 in /usr/local/lib/python3.10/dist-packages (from langchain) (1.10.13)\n",
            "Requirement already satisfied: requests<3,>=2 in /usr/local/lib/python3.10/dist-packages (from langchain) (2.31.0)\n",
            "Requirement already satisfied: tenacity<9.0.0,>=8.1.0 in /usr/local/lib/python3.10/dist-packages (from langchain) (8.2.3)\n",
            "Requirement already satisfied: attrs>=17.3.0 in /usr/local/lib/python3.10/dist-packages (from aiohttp<4.0.0,>=3.8.3->langchain) (23.1.0)\n",
            "Requirement already satisfied: charset-normalizer<4.0,>=2.0 in /usr/local/lib/python3.10/dist-packages (from aiohttp<4.0.0,>=3.8.3->langchain) (3.3.2)\n",
            "Requirement already satisfied: multidict<7.0,>=4.5 in /usr/local/lib/python3.10/dist-packages (from aiohttp<4.0.0,>=3.8.3->langchain) (6.0.4)\n",
            "Requirement already satisfied: yarl<2.0,>=1.0 in /usr/local/lib/python3.10/dist-packages (from aiohttp<4.0.0,>=3.8.3->langchain) (1.9.2)\n",
            "Requirement already satisfied: frozenlist>=1.1.1 in /usr/local/lib/python3.10/dist-packages (from aiohttp<4.0.0,>=3.8.3->langchain) (1.4.0)\n",
            "Requirement already satisfied: aiosignal>=1.1.2 in /usr/local/lib/python3.10/dist-packages (from aiohttp<4.0.0,>=3.8.3->langchain) (1.3.1)\n",
            "Requirement already satisfied: idna>=2.8 in /usr/local/lib/python3.10/dist-packages (from anyio<4.0->langchain) (3.4)\n",
            "Requirement already satisfied: sniffio>=1.1 in /usr/local/lib/python3.10/dist-packages (from anyio<4.0->langchain) (1.3.0)\n",
            "Requirement already satisfied: exceptiongroup in /usr/local/lib/python3.10/dist-packages (from anyio<4.0->langchain) (1.1.3)\n",
            "Collecting marshmallow<4.0.0,>=3.18.0 (from dataclasses-json<0.7,>=0.5.7->langchain)\n",
            "  Downloading marshmallow-3.20.1-py3-none-any.whl (49 kB)\n",
            "\u001b[2K     \u001b[90m━━━━━━━━━━━━━━━━━━━━━━━━━━━━━━━━━━━━━━━━\u001b[0m \u001b[32m49.4/49.4 kB\u001b[0m \u001b[31m8.6 MB/s\u001b[0m eta \u001b[36m0:00:00\u001b[0m\n",
            "\u001b[?25hCollecting typing-inspect<1,>=0.4.0 (from dataclasses-json<0.7,>=0.5.7->langchain)\n",
            "  Downloading typing_inspect-0.9.0-py3-none-any.whl (8.8 kB)\n",
            "Collecting jsonpointer>=1.9 (from jsonpatch<2.0,>=1.33->langchain)\n",
            "  Downloading jsonpointer-2.4-py2.py3-none-any.whl (7.8 kB)\n",
            "Requirement already satisfied: typing-extensions>=4.2.0 in /usr/local/lib/python3.10/dist-packages (from pydantic<3,>=1->langchain) (4.5.0)\n",
            "Requirement already satisfied: urllib3<3,>=1.21.1 in /usr/local/lib/python3.10/dist-packages (from requests<3,>=2->langchain) (2.0.7)\n",
            "Requirement already satisfied: certifi>=2017.4.17 in /usr/local/lib/python3.10/dist-packages (from requests<3,>=2->langchain) (2023.7.22)\n",
            "Requirement already satisfied: greenlet!=0.4.17 in /usr/local/lib/python3.10/dist-packages (from SQLAlchemy<3,>=1.4->langchain) (3.0.1)\n",
            "Requirement already satisfied: packaging>=17.0 in /usr/local/lib/python3.10/dist-packages (from marshmallow<4.0.0,>=3.18.0->dataclasses-json<0.7,>=0.5.7->langchain) (23.2)\n",
            "Collecting mypy-extensions>=0.3.0 (from typing-inspect<1,>=0.4.0->dataclasses-json<0.7,>=0.5.7->langchain)\n",
            "  Downloading mypy_extensions-1.0.0-py3-none-any.whl (4.7 kB)\n",
            "Installing collected packages: mypy-extensions, marshmallow, jsonpointer, typing-inspect, langsmith, jsonpatch, langchain-core, dataclasses-json, langchain\n",
            "Successfully installed dataclasses-json-0.6.3 jsonpatch-1.33 jsonpointer-2.4 langchain-0.0.342 langchain-core-0.0.7 langsmith-0.0.67 marshmallow-3.20.1 mypy-extensions-1.0.0 typing-inspect-0.9.0\n"
          ]
        }
      ],
      "source": [
        "!pip install openai\n",
        "!pip install langchain"
      ]
    },
    {
      "cell_type": "code",
      "execution_count": 2,
      "metadata": {
        "colab": {
          "base_uri": "https://localhost:8080/"
        },
        "id": "AhUeYnnuwpZN",
        "outputId": "299976b0-4c46-4b2d-bc36-e17bee92ce13"
      },
      "outputs": [
        {
          "name": "stdout",
          "output_type": "stream",
          "text": [
            "Collecting pydantic==1.10\n",
            "  Downloading pydantic-1.10.0-cp310-cp310-manylinux_2_17_x86_64.manylinux2014_x86_64.whl (12.7 MB)\n",
            "\u001b[2K     \u001b[90m━━━━━━━━━━━━━━━━━━━━━━━━━━━━━━━━━━━━━━━━\u001b[0m \u001b[32m12.7/12.7 MB\u001b[0m \u001b[31m38.7 MB/s\u001b[0m eta \u001b[36m0:00:00\u001b[0m\n",
            "\u001b[?25hRequirement already satisfied: typing-extensions>=4.1.0 in /usr/local/lib/python3.10/dist-packages (from pydantic==1.10) (4.5.0)\n",
            "Installing collected packages: pydantic\n",
            "  Attempting uninstall: pydantic\n",
            "    Found existing installation: pydantic 1.10.13\n",
            "    Uninstalling pydantic-1.10.13:\n",
            "      Successfully uninstalled pydantic-1.10.13\n",
            "\u001b[31mERROR: pip's dependency resolver does not currently take into account all the packages that are installed. This behaviour is the source of the following dependency conflicts.\n",
            "lida 0.0.10 requires fastapi, which is not installed.\n",
            "lida 0.0.10 requires kaleido, which is not installed.\n",
            "lida 0.0.10 requires python-multipart, which is not installed.\n",
            "lida 0.0.10 requires uvicorn, which is not installed.\n",
            "llmx 0.0.15a0 requires cohere, which is not installed.\n",
            "llmx 0.0.15a0 requires tiktoken, which is not installed.\u001b[0m\u001b[31m\n",
            "\u001b[0mSuccessfully installed pydantic-1.10.0\n",
            "Requirement already satisfied: langchain in /usr/local/lib/python3.10/dist-packages (0.0.342)\n",
            "Requirement already satisfied: openai in /usr/local/lib/python3.10/dist-packages (1.3.5)\n",
            "Requirement already satisfied: PyYAML>=5.3 in /usr/local/lib/python3.10/dist-packages (from langchain) (6.0.1)\n",
            "Requirement already satisfied: SQLAlchemy<3,>=1.4 in /usr/local/lib/python3.10/dist-packages (from langchain) (2.0.23)\n",
            "Requirement already satisfied: aiohttp<4.0.0,>=3.8.3 in /usr/local/lib/python3.10/dist-packages (from langchain) (3.8.6)\n",
            "Requirement already satisfied: anyio<4.0 in /usr/local/lib/python3.10/dist-packages (from langchain) (3.7.1)\n",
            "Requirement already satisfied: async-timeout<5.0.0,>=4.0.0 in /usr/local/lib/python3.10/dist-packages (from langchain) (4.0.3)\n",
            "Requirement already satisfied: dataclasses-json<0.7,>=0.5.7 in /usr/local/lib/python3.10/dist-packages (from langchain) (0.6.3)\n",
            "Requirement already satisfied: jsonpatch<2.0,>=1.33 in /usr/local/lib/python3.10/dist-packages (from langchain) (1.33)\n",
            "Requirement already satisfied: langchain-core<0.1,>=0.0.7 in /usr/local/lib/python3.10/dist-packages (from langchain) (0.0.7)\n",
            "Requirement already satisfied: langsmith<0.1.0,>=0.0.63 in /usr/local/lib/python3.10/dist-packages (from langchain) (0.0.67)\n",
            "Requirement already satisfied: numpy<2,>=1 in /usr/local/lib/python3.10/dist-packages (from langchain) (1.23.5)\n",
            "Requirement already satisfied: pydantic<3,>=1 in /usr/local/lib/python3.10/dist-packages (from langchain) (1.10.0)\n",
            "Requirement already satisfied: requests<3,>=2 in /usr/local/lib/python3.10/dist-packages (from langchain) (2.31.0)\n",
            "Requirement already satisfied: tenacity<9.0.0,>=8.1.0 in /usr/local/lib/python3.10/dist-packages (from langchain) (8.2.3)\n",
            "Requirement already satisfied: distro<2,>=1.7.0 in /usr/lib/python3/dist-packages (from openai) (1.7.0)\n",
            "Requirement already satisfied: httpx<1,>=0.23.0 in /usr/local/lib/python3.10/dist-packages (from openai) (0.25.2)\n",
            "Requirement already satisfied: tqdm>4 in /usr/local/lib/python3.10/dist-packages (from openai) (4.66.1)\n",
            "Requirement already satisfied: typing-extensions<5,>=4.5 in /usr/local/lib/python3.10/dist-packages (from openai) (4.5.0)\n",
            "Requirement already satisfied: attrs>=17.3.0 in /usr/local/lib/python3.10/dist-packages (from aiohttp<4.0.0,>=3.8.3->langchain) (23.1.0)\n",
            "Requirement already satisfied: charset-normalizer<4.0,>=2.0 in /usr/local/lib/python3.10/dist-packages (from aiohttp<4.0.0,>=3.8.3->langchain) (3.3.2)\n",
            "Requirement already satisfied: multidict<7.0,>=4.5 in /usr/local/lib/python3.10/dist-packages (from aiohttp<4.0.0,>=3.8.3->langchain) (6.0.4)\n",
            "Requirement already satisfied: yarl<2.0,>=1.0 in /usr/local/lib/python3.10/dist-packages (from aiohttp<4.0.0,>=3.8.3->langchain) (1.9.2)\n",
            "Requirement already satisfied: frozenlist>=1.1.1 in /usr/local/lib/python3.10/dist-packages (from aiohttp<4.0.0,>=3.8.3->langchain) (1.4.0)\n",
            "Requirement already satisfied: aiosignal>=1.1.2 in /usr/local/lib/python3.10/dist-packages (from aiohttp<4.0.0,>=3.8.3->langchain) (1.3.1)\n",
            "Requirement already satisfied: idna>=2.8 in /usr/local/lib/python3.10/dist-packages (from anyio<4.0->langchain) (3.4)\n",
            "Requirement already satisfied: sniffio>=1.1 in /usr/local/lib/python3.10/dist-packages (from anyio<4.0->langchain) (1.3.0)\n",
            "Requirement already satisfied: exceptiongroup in /usr/local/lib/python3.10/dist-packages (from anyio<4.0->langchain) (1.1.3)\n",
            "Requirement already satisfied: marshmallow<4.0.0,>=3.18.0 in /usr/local/lib/python3.10/dist-packages (from dataclasses-json<0.7,>=0.5.7->langchain) (3.20.1)\n",
            "Requirement already satisfied: typing-inspect<1,>=0.4.0 in /usr/local/lib/python3.10/dist-packages (from dataclasses-json<0.7,>=0.5.7->langchain) (0.9.0)\n",
            "Requirement already satisfied: certifi in /usr/local/lib/python3.10/dist-packages (from httpx<1,>=0.23.0->openai) (2023.7.22)\n",
            "Requirement already satisfied: httpcore==1.* in /usr/local/lib/python3.10/dist-packages (from httpx<1,>=0.23.0->openai) (1.0.2)\n",
            "Requirement already satisfied: h11<0.15,>=0.13 in /usr/local/lib/python3.10/dist-packages (from httpcore==1.*->httpx<1,>=0.23.0->openai) (0.14.0)\n",
            "Requirement already satisfied: jsonpointer>=1.9 in /usr/local/lib/python3.10/dist-packages (from jsonpatch<2.0,>=1.33->langchain) (2.4)\n",
            "Requirement already satisfied: urllib3<3,>=1.21.1 in /usr/local/lib/python3.10/dist-packages (from requests<3,>=2->langchain) (2.0.7)\n",
            "Requirement already satisfied: greenlet!=0.4.17 in /usr/local/lib/python3.10/dist-packages (from SQLAlchemy<3,>=1.4->langchain) (3.0.1)\n",
            "Requirement already satisfied: packaging>=17.0 in /usr/local/lib/python3.10/dist-packages (from marshmallow<4.0.0,>=3.18.0->dataclasses-json<0.7,>=0.5.7->langchain) (23.2)\n",
            "Requirement already satisfied: mypy-extensions>=0.3.0 in /usr/local/lib/python3.10/dist-packages (from typing-inspect<1,>=0.4.0->dataclasses-json<0.7,>=0.5.7->langchain) (1.0.0)\n"
          ]
        }
      ],
      "source": [
        "!pip install pydantic==1.10\n",
        "!pip install langchain openai"
      ]
    },
    {
      "cell_type": "code",
      "execution_count": 3,
      "metadata": {
        "id": "a-Mn2y_S2OE-"
      },
      "outputs": [],
      "source": [
        "import os\n",
        "import json\n",
        "import pandas as pd\n",
        "from langchain.llms import OpenAI\n",
        "from langchain.memory import ConversationBufferMemory\n",
        "import openai\n",
        "from langchain.chat_models import ChatOpenAI\n",
        "from langchain import OpenAI\n",
        "from typing import List, Union, Any, Optional, Type\n",
        "import re\n",
        "from langchain import PromptTemplate\n",
        "from langchain.tools import BaseTool\n",
        "from langchain.chains import LLMChain\n",
        "\n",
        "from langchain.prompts import (\n",
        "    ChatPromptTemplate,\n",
        "    HumanMessagePromptTemplate,\n",
        "    MessagesPlaceholder,\n",
        "    SystemMessagePromptTemplate,\n",
        ")"
      ]
    },
    {
      "cell_type": "code",
      "execution_count": 4,
      "metadata": {
        "id": "Qql3PdxolE8D"
      },
      "outputs": [],
      "source": [
        "os.environ[\"OPENAI_API_KEY\"] = \"Your API Key\""
      ]
    },
    {
      "cell_type": "code",
      "execution_count": 25,
      "metadata": {
        "id": "EyhIyMotZodK"
      },
      "outputs": [],
      "source": [
        "class BaseAgent():\n",
        "    def __init__(self, cv, job_offer,categories,n_questions,client):\n",
        "        self.cv = cv\n",
        "        self.job_offer = job_offer\n",
        "        self.categories=categories\n",
        "        self.n_questions=n_questions\n",
        "        self.client = client\n",
        "\n",
        "\n",
        "class QuestionGeneratorAgent(BaseAgent):\n",
        "    def __init__(self, cv, job_offer, categories, n_questions,client):\n",
        "        super().__init__(cv, job_offer, categories, n_questions,client)\n",
        "\n",
        "        self.template_question_generation = \"\"\"you are an non-technical interviewer  conducting a job interview.\n",
        "         You will be provided with the cv {cv} and the job offer {job_offer}\n",
        "         and will generate a number of questions {n_questions} for each of the following categories {categories}, only the number specified as number of questions.\n",
        "         You shoul take into consideration the cv and the job offer to generate valid and valuable questions across all the categories.\n",
        "         You answer strictly as single JSON string. Don't include any other verbose texts and don't include the markdown syntax anywhere.JSON format: [\"question\":, \"category\":].\n",
        "        before generating the question make sure only include the specified numer of questions {n_questions} per category.\n",
        "        \"\"\"\n",
        "        self.prompt_question_generation = PromptTemplate(template=self.template_question_generation, input_variables=[\"cv\", \"job_offer\",\"categories\",\"n_questions\"])\n",
        "\n",
        "        self.llm_chain_question_generation = LLMChain(prompt=self.prompt_question_generation, llm=self.client)\n",
        "\n",
        "    def _generate_questions(self) -> list[dict[str, str]]:\n",
        "\n",
        "\n",
        "        try:\n",
        "            generated_questions_json = self.llm_chain_question_generation.run({'cv': self.cv, \"job_offer\": self.job_offer,\"categories\":self.categories,\"n_questions\":self.n_questions})\n",
        "            questions_parsed = json.loads(generated_questions_json)\n",
        "            return questions_parsed\n",
        "\n",
        "\n",
        "        except Exception as e:\n",
        "            print(e)\n",
        "            return \"Error generating questions\"\n",
        "\n",
        "\n",
        "\n",
        "\n",
        "class DialogueManager():\n",
        "    def __init__(self, questions):\n",
        "        self.questions = questions\n",
        "\n",
        "    def _run_interview(self):\n",
        "        interview_records = []\n",
        "        for question in self.questions:\n",
        "            user_reply = input(f\"{question['question']} \")\n",
        "            interview_records.append({\n",
        "                \"question\": question['question'],\n",
        "                \"category\": question['category'],\n",
        "                \"user_reply\": user_reply\n",
        "            })\n",
        "\n",
        "\n",
        "        return interview_records\n",
        "\n",
        "\n",
        "\n",
        "class Evaluation(BaseAgent):\n",
        "    def __init__(self,job_offer, categories, client,interview_records):\n",
        "          super().__init__(None,None,job_offer, categories, client)\n",
        "          self.interview_records=interview_records\n",
        "\n",
        "\n",
        "          self.template_evaluation_generation = \"\"\"you are an evaluator of job interview, you will be provided with the job offer {job_offer}\n",
        "             and the responses given by the user in the interview records {interview_records} that include ('question,'category','user_reply').\n",
        "             Your task is based on the information provided :\n",
        "             Evaluate critically the answers for every category in category {categories} and provide output in the following JSON format based on the adequacy of the responses to the questions and the job offer:\n",
        "            (\n",
        "                \"Evaluation\": \"general evaluation of the answer, exclusively based on the user replies\",\n",
        "                \"Reason\": \"reasons behind the evaluation\",\n",
        "                \"Feedback\": \"Feedback or suggestions for improvement\",\n",
        "                \n",
        "            )\n",
        "            your evaluation should be exclusively based on the replies provided in the interview records and should not include external additions.\n",
        "            \"\"\"\n",
        "\n",
        "\n",
        "\n",
        "          self.prompt_evaluation_generation = PromptTemplate(template=self.template_evaluation_generation, input_variables=[\"job_offer\", \"categories\",\"interview_records\"])\n",
        "\n",
        "          self.llm_chain_evaluation_generation = LLMChain(prompt=self.prompt_evaluation_generation, llm=self.client)\n",
        "\n",
        "    def _generate_evaluation(self) -> list[dict[str, str]]:\n",
        "            try:\n",
        "                evaluation = self.llm_chain_evaluation_generation.run({\"job_offer\": self.job_offer, \"categories\":self.categories, \"interview_records\": self.interview_records})\n",
        "                parsed_evaluation = json.loads(evaluation)\n",
        "                return parsed_evaluation\n",
        "\n",
        "            except Exception as e:\n",
        "                print(e)\n",
        "                return \" Error generating Evaluation\""
      ]
    },
    {
      "cell_type": "code",
      "execution_count": 26,
      "metadata": {
        "id": "A7GledcjCXNf"
      },
      "outputs": [],
      "source": [
        "def interview_pipeline(cv_info, job_offer_info, categories_list,n_questions,ai_client):\n",
        "\n",
        "\n",
        "# Use the ai_client from BaseAgent to activate the question generator\n",
        "    question_generator = QuestionGeneratorAgent(cv_info, job_offer_info, categories_list,n_questions, ai_client)\n",
        "\n",
        "# Generate questions\n",
        "    generated_questions = question_generator._generate_questions()\n",
        "\n",
        "\n",
        "    interviewer = DialogueManager(generated_questions)\n",
        "    interview_records = interviewer._run_interview()\n",
        "    print(interview_records)\n",
        "\n",
        "    evaluator = Evaluation(job_offer_info, categories_list, ai_client,interview_records)\n",
        "    evaluation_result = evaluator._generate_evaluation()\n",
        "\n",
        "    print(\"Generated Questions:\")\n",
        "    print(generated_questions)\n",
        "    print(\"Evaluation Result:\")\n",
        "    print(evaluation_result)\n",
        "    return evaluation_result\n",
        "\n"
      ]
    },
    {
      "cell_type": "code",
      "execution_count": 27,
      "metadata": {
        "colab": {
          "base_uri": "https://localhost:8080/"
        },
        "id": "tBUL_dQbNHrf",
        "outputId": "4def7d5f-5d2a-4a7b-ba55-b36ead7b2b6f"
      },
      "outputs": [
        {
          "name": "stdout",
          "output_type": "stream",
          "text": [
            "Can you tell me about your experience in talent acquisition and employee relations? I worked as an Head-hunter for over 5 years\n",
            "What strategies have you implemented to attract top-tier talent and improve retention rates? I encourage team-work and active participations in the decision making of the whole company\n",
            "Can you provide an example of a recruitment initiative you orchestrated that resulted in an improvement in candidate quality? I introduced a multi-department transper program\n",
            "How would you handle a situation where an employee is not meeting performance expectations? I would talk to the person to understand the reasons\n",
            "[{'question': 'Can you tell me about your experience in talent acquisition and employee relations?', 'category': 'Personal', 'user_reply': 'I worked as an Head-hunter for over 5 years'}, {'question': 'What strategies have you implemented to attract top-tier talent and improve retention rates?', 'category': 'Role specific', 'user_reply': 'I encourage team-work and active participations in the decision making of the whole company'}, {'question': 'Can you provide an example of a recruitment initiative you orchestrated that resulted in an improvement in candidate quality?', 'category': 'Behavioural', 'user_reply': 'I introduced a multi-department transper program'}, {'question': 'How would you handle a situation where an employee is not meeting performance expectations?', 'category': 'Situational', 'user_reply': 'I would talk to the person to understand the reasons'}]\n",
            "Generated Questions:\n",
            "[{'question': 'Can you tell me about your experience in talent acquisition and employee relations?', 'category': 'Personal'}, {'question': 'What strategies have you implemented to attract top-tier talent and improve retention rates?', 'category': 'Role specific'}, {'question': 'Can you provide an example of a recruitment initiative you orchestrated that resulted in an improvement in candidate quality?', 'category': 'Behavioural'}, {'question': 'How would you handle a situation where an employee is not meeting performance expectations?', 'category': 'Situational'}]\n",
            "Evaluation Result:\n",
            "{'Evaluation': [{'Category': 'Personal', 'Evaluation': 'Adequate', 'Reason': 'The user has relevant experience as a head-hunter for over 5 years, which aligns with the requirement for talent acquisition.', 'Feedback': 'None'}, {'Category': 'Role specific', 'Evaluation': 'Inadequate', 'Reason': \"The user's response does not directly answer the question about strategies implemented to attract top-tier talent and improve retention rates. Encouraging teamwork and active participation is not specific enough.\", 'Feedback': 'The candidate should provide specific examples of strategies implemented to attract top-tier talent and improve retention rates.'}, {'Category': 'Behavioural', 'Evaluation': 'Adequate', 'Reason': 'The user provided an example of introducing a multi-department transparency program, which showcases a recruitment initiative that resulted in an improvement in candidate quality.', 'Feedback': 'None'}, {'Category': 'Situational', 'Evaluation': 'Adequate', 'Reason': 'The user mentioned that they would talk to the person to understand the reasons for not meeting performance expectations, which shows a proactive approach to addressing the issue.', 'Feedback': 'None'}]}\n"
          ]
        },
        {
          "data": {
            "text/plain": [
              "{'Evaluation': [{'Category': 'Personal',\n",
              "   'Evaluation': 'Adequate',\n",
              "   'Reason': 'The user has relevant experience as a head-hunter for over 5 years, which aligns with the requirement for talent acquisition.',\n",
              "   'Feedback': 'None'},\n",
              "  {'Category': 'Role specific',\n",
              "   'Evaluation': 'Inadequate',\n",
              "   'Reason': \"The user's response does not directly answer the question about strategies implemented to attract top-tier talent and improve retention rates. Encouraging teamwork and active participation is not specific enough.\",\n",
              "   'Feedback': 'The candidate should provide specific examples of strategies implemented to attract top-tier talent and improve retention rates.'},\n",
              "  {'Category': 'Behavioural',\n",
              "   'Evaluation': 'Adequate',\n",
              "   'Reason': 'The user provided an example of introducing a multi-department transparency program, which showcases a recruitment initiative that resulted in an improvement in candidate quality.',\n",
              "   'Feedback': 'None'},\n",
              "  {'Category': 'Situational',\n",
              "   'Evaluation': 'Adequate',\n",
              "   'Reason': 'The user mentioned that they would talk to the person to understand the reasons for not meeting performance expectations, which shows a proactive approach to addressing the issue.',\n",
              "   'Feedback': 'None'}]}"
            ]
          },
          "execution_count": 27,
          "metadata": {},
          "output_type": "execute_result"
        }
      ],
      "source": [
        "cv=\"With extensive expertise spanning talent acquisition, employee relations, and HR operations, I am a seasoned HR Specialist with a track record of success. Armed with a rich background of [X years] in the field, I specialize in crafting and implementing robust HR strategies aimed at attracting top-tier talent, bolstering retention rates, and nurturing a thriving work culture. My forte lies in streamlining HR processes, optimizing efficiency, and fostering career growth among employees. Noteworthy achievements include orchestrating recruitment initiatives that elevated candidate quality by 30%, alongside spearheading engagement programs that yielded a remarkable 20% improvement in retention rates. My educational background includes an MBA and a BSc in Human Resources Management, complemented by certifications such as the SHRM Certified Professional (SHRM-CP) and other relevant credentials. My skill set encompasses talent acquisition, performance management, HRIS administration, policy development, and effective communication, making me a valuable asset adept at navigating the dynamic landscape of human resources.\"\n",
        "job_offer=\"Seeking a vibrant addition to our team, is on the lookout for a seasoned Human Resources Specialist. This pivotal role involves driving talent acquisition, nurturing employee relations, and optimizing HR operations to bolster our company's growth trajectory. We prioritize fostering a positive workplace culture and innovation across all facets of our operations. The ideal candidate will spearhead recruitment strategies, implement engaging employee programs, manage performance appraisals, and streamline HR processes. A Bachelor's degree in Human Resources Management or a related field, coupled with [X years] of HR experience, is required, with expertise in HRIS systems, talent sourcing tools, and strong communication skills. Certifications like SHRM-CP or PHR would be advantageous. We offer competitive compensation, comprehensive benefits, and a supportive work environment that champions professional development. Join us in shaping an environment where talent thrives and success blossoms\"\n",
        "categories=[\"Personal\",\"Role specific\",\"Behavioural\",\"Situational\"]\n",
        "n_questions=1\n",
        "ai_client = ChatOpenAI(model_name=\"gpt-3.5-turbo\")\n",
        "\n",
        "outcome=interview_pipeline(cv, job_offer, categories,1,ai_client)\n",
        "outcome"
      ]
    },
    {
      "cell_type": "code",
      "execution_count": null,
      "metadata": {
        "id": "BXPvoe0wah1B"
      },
      "outputs": [],
      "source": []
    }
  ],
  "metadata": {
    "colab": {
      "provenance": []
    },
    "kernelspec": {
      "display_name": "Python 3",
      "name": "python3"
    },
    "language_info": {
      "name": "python"
    }
  },
  "nbformat": 4,
  "nbformat_minor": 0
}
