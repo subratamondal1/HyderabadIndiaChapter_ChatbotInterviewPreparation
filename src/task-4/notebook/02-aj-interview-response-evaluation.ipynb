{
 "cells": [
  {
   "cell_type": "markdown",
   "metadata": {},
   "source": [
    "# 02 - OpenAI Interview Response Evaluation\n",
    "`Author: Abdlazeez Jimoh`"
   ]
  },
  {
   "cell_type": "code",
   "execution_count": 1,
   "metadata": {},
   "outputs": [],
   "source": [
    "import json\n",
    "from pprint import pprint\n",
    "\n",
    "from openai import OpenAI\n",
    "from typing_extensions import Literal, TypedDict"
   ]
  },
  {
   "cell_type": "code",
   "execution_count": 2,
   "metadata": {},
   "outputs": [],
   "source": [
    "OPENAI_API_KEY = \"YOUR_API_KEY\""
   ]
  },
  {
   "cell_type": "code",
   "execution_count": 3,
   "metadata": {},
   "outputs": [],
   "source": [
    "class Question(TypedDict):\n",
    "    question: str\n",
    "    type: Literal[\"personal\", \"role-specific\", \"behavioral\", \"situational\"]\n",
    "\n",
    "\n",
    "class Evaluation(TypedDict):\n",
    "    evaluation: Literal[\"good\", \"average\", \"bad\"]\n",
    "    feedback: str | None\n",
    "    reason: str | None\n",
    "    samples: list[str] | None"
   ]
  },
  {
   "cell_type": "code",
   "execution_count": 4,
   "metadata": {},
   "outputs": [],
   "source": [
    "\n",
    "class OpenAIResponseEvaluationAgent():\n",
    "    def __init__(self):\n",
    "        super().__init__()\n",
    "        self.client = OpenAI(api_key=OPENAI_API_KEY)\n",
    "        self.system_prompt = \"\"\"You are an interviewer evaluating a candidate's response to an interview question. Your task is to:\n",
    "- Evaluate the candidate's response on the scale of \"good\", \"average\", and \"bad\".\n",
    "- Provide a reason for why it's categorized as good, average, or bad.\n",
    "- Offer constructive feedback or suggestions for improvement.\n",
    "- Provide 2 samples of good responses.\n",
    "\n",
    "You will be provided with an interview question and a candidate response.\n",
    "\n",
    "Evaluate and provide output in the following JSON format:\n",
    "{\n",
    "    \"evaluation\": \"good, average, or bad\",\n",
    "    \"reason\": \"Reason why it's good, average, or bad\",\n",
    "    \"feedback\": \"Feedback or suggestions for improvement\",\n",
    "    \"samples\": [\n",
    "        \"<Good response 1>\", \n",
    "        \"<Good response 2>\"\n",
    "    ]\n",
    "}\"\"\"\n",
    "        self.user_prompt = \"\"\"QUESTION:\n",
    "{question}\n",
    "\n",
    "RESPONSE: \n",
    "{response}\"\"\"\n",
    "\n",
    "    def __call__(self, question: str, response: str) -> Evaluation | None:\n",
    "        \"\"\"\n",
    "        Evaluate a candidate's response to an interview question.\n",
    "\n",
    "        Args:\n",
    "            question (str): The interview question.\n",
    "            response (str): The candidate's response.\n",
    "\n",
    "        Returns:\n",
    "            Evaluation | None: The evaluation of the candidate's response or None if an error occurred.\n",
    "        \"\"\"\n",
    "\n",
    "        # Generate questions\n",
    "        evaluation = self._generate(question, response)\n",
    "\n",
    "        return evaluation\n",
    "\n",
    "    def run(self, question: str, response: str) -> Evaluation | None:\n",
    "        \"\"\"\n",
    "        Evaluate a candidate's response to an interview question.\n",
    "\n",
    "        Args:\n",
    "            question (str): The interview question.\n",
    "            response (str): The candidate's response.\n",
    "\n",
    "        Returns:\n",
    "            Evaluation | None: The evaluation of the candidate's response or None if an error occurred.\n",
    "        \"\"\"\n",
    "\n",
    "        # Generate questions\n",
    "        evaluation = self._generate(question, response)\n",
    "\n",
    "        return evaluation\n",
    "\n",
    "    def _generate(self, question: str, response: str) -> Evaluation | None:\n",
    "        \"\"\"\n",
    "        Evaluate a candidate's response to an interview question.\n",
    "\n",
    "        Args:\n",
    "            question (str): The interview question.\n",
    "            response (str): The candidate's response.\n",
    "\n",
    "        Returns:\n",
    "            Evaluation | None: The evaluation of the candidate's response or None if an error occurred.\n",
    "        \"\"\"\n",
    "\n",
    "        try:\n",
    "            output = self.client.chat.completions.create(\n",
    "                model=\"gpt-3.5-turbo-1106\",\n",
    "                messages=[\n",
    "                    {\n",
    "                        \"role\": \"system\",\n",
    "                        \"content\": self.system_prompt,\n",
    "                    },\n",
    "                    {\n",
    "                        \"role\": \"user\",\n",
    "                        \"content\": self.user_prompt.format(question=question, response=response),\n",
    "                    },\n",
    "                ],\n",
    "                temperature=0.5,\n",
    "                max_tokens=1024,\n",
    "                top_p=1,\n",
    "                frequency_penalty=0,\n",
    "                presence_penalty=0,\n",
    "            )\n",
    "\n",
    "            questions = json.loads(output.choices[0].message.content or \"{}\")\n",
    "\n",
    "            return questions\n",
    "        except Exception as e:\n",
    "            print(e)\n",
    "            return None"
   ]
  },
  {
   "cell_type": "code",
   "execution_count": 5,
   "metadata": {},
   "outputs": [
    {
     "name": "stdout",
     "output_type": "stream",
     "text": [
      "{'evaluation': 'average',\n",
      " 'feedback': 'The candidate should elaborate on what specifically about '\n",
      "             'startups and technology excites them. They could provide '\n",
      "             'examples of successful startups they admire or specific '\n",
      "             'technologies they are passionate about.',\n",
      " 'reason': \"The response provides a basic explanation of the candidate's \"\n",
      "           'interest in technology and startups, but it lacks depth and '\n",
      "           'specific details.',\n",
      " 'samples': [\"I've always been fascinated by the innovative and fast-paced \"\n",
      "             \"environment of startups, and I'm particularly drawn to the \"\n",
      "             \"culture of creativity and problem-solving. I've closely followed \"\n",
      "             \"the success stories of companies like Airbnb and Uber, and I'm \"\n",
      "             'eager to contribute to a similar journey of growth and '\n",
      "             'innovation at a startup in San Francisco.',\n",
      "             'My passion for software engineering stems from a desire to '\n",
      "             'create impactful solutions that can scale rapidly and make a '\n",
      "             \"difference in people's lives. The dynamic nature of startups \"\n",
      "             \"aligns with my career aspirations, and I'm eager to immerse \"\n",
      "             'myself in the vibrant tech community of San Francisco to learn '\n",
      "             'and contribute to groundbreaking projects.']}\n"
     ]
    }
   ],
   "source": [
    "response_evaluator = OpenAIResponseEvaluationAgent()\n",
    "evaluation = response_evaluator.run(\n",
    "    \"What motivated you to pursue a career in software engineering at a startup in San Francisco?\",\n",
    "    \"I've always been interested in technology and startups. I've been working in the tech industry \\\n",
    "    for the past 5 years and I've always wanted to work at a startup. I'm really excited about the \\\n",
    "    opportunity to work at a startup in San Francisco.\"\n",
    ")\n",
    "\n",
    "pprint(evaluation)"
   ]
  },
  {
   "cell_type": "code",
   "execution_count": 6,
   "metadata": {},
   "outputs": [
    {
     "name": "stdout",
     "output_type": "stream",
     "text": [
      "{'evaluation': 'average',\n",
      " 'feedback': 'The candidate should provide more specific examples of how they '\n",
      "             'assess importance and urgency, as well as how they communicate '\n",
      "             'and coordinate with the team to ensure tasks are completed '\n",
      "             'efficiently. Additionally, they should consider mentioning any '\n",
      "             'tools or frameworks they use to aid in task prioritization.',\n",
      " 'reason': \"The candidate's response demonstrates a basic understanding of \"\n",
      "           'task prioritization but lacks depth and specific strategies.',\n",
      " 'samples': ['I prioritize tasks by first assessing the impact of each task on '\n",
      "             'our project goals and deadlines. I then consider the urgency of '\n",
      "             'each task by evaluating the potential consequences of not '\n",
      "             'completing it on time. To ensure efficient completion, I '\n",
      "             'regularly meet with the team to discuss priorities, potential '\n",
      "             'roadblocks, and resource allocation. Additionally, I utilize '\n",
      "             'project management tools like Jira to track and manage task '\n",
      "             'assignments and deadlines.',\n",
      "             'When leading a team on multiple projects, I prioritize tasks by '\n",
      "             'aligning them with our project objectives and deadlines. I '\n",
      "             'assess the urgency of each task by considering its impact on '\n",
      "             'project timelines and deliverables. To ensure effective '\n",
      "             'communication and coordination, I conduct regular team meetings '\n",
      "             'to discuss priorities, potential challenges, and resource '\n",
      "             'allocation. I also use tools like Trello to visually manage and '\n",
      "             'prioritize tasks across projects.']}\n"
     ]
    }
   ],
   "source": [
    "evaluation = response_evaluator.run(\n",
    "    \"How do you prioritize tasks when leading a team of data scientists and engineers on multiple projects?\",\n",
    "    \"I prioritize tasks by importance and urgency. I also make sure to communicate with my team about what needs to be done and when it needs to be done. I also make sure to communicate with my team about what needs to be done and when it needs to be done.\",\n",
    ")\n",
    "\n",
    "pprint(evaluation)"
   ]
  },
  {
   "cell_type": "code",
   "execution_count": null,
   "metadata": {},
   "outputs": [],
   "source": []
  }
 ],
 "metadata": {
  "kernelspec": {
   "display_name": ".venv",
   "language": "python",
   "name": "python3"
  },
  "language_info": {
   "codemirror_mode": {
    "name": "ipython",
    "version": 3
   },
   "file_extension": ".py",
   "mimetype": "text/x-python",
   "name": "python",
   "nbconvert_exporter": "python",
   "pygments_lexer": "ipython3",
   "version": "3.10.12"
  }
 },
 "nbformat": 4,
 "nbformat_minor": 2
}
