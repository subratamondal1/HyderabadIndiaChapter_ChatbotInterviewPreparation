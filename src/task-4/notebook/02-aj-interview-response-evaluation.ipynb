{
 "cells": [
  {
   "cell_type": "markdown",
   "metadata": {},
   "source": [
    "# 01 - Interview Question Generation\n",
    "`Author: Abdlazeez Jimoh`"
   ]
  },
  {
   "cell_type": "code",
   "execution_count": 3,
   "metadata": {},
   "outputs": [
    {
     "data": {
      "text/plain": [
       "True"
      ]
     },
     "execution_count": 3,
     "metadata": {},
     "output_type": "execute_result"
    }
   ],
   "source": [
    "from openai import OpenAI\n",
    "import json\n",
    "from pprint import pprint\n",
    "from dotenv import load_dotenv, find_dotenv\n",
    "\n",
    "load_dotenv(find_dotenv())"
   ]
  },
  {
   "cell_type": "code",
   "execution_count": 4,
   "metadata": {},
   "outputs": [],
   "source": [
    "client = OpenAI()"
   ]
  },
  {
   "cell_type": "code",
   "execution_count": 5,
   "metadata": {},
   "outputs": [],
   "source": [
    "class BaseAgent:\n",
    "    def __init__(self):\n",
    "        self.client = OpenAI()\n",
    "        self.system_prompt = None\n",
    "        self.user_prompt = None\n",
    "\n",
    "    def __call__(self, *args, **kwargs):\n",
    "        raise NotImplementedError\n",
    "\n",
    "\n",
    "class ResponseEvaluationAgentV1(BaseAgent):\n",
    "    def __init__(self):\n",
    "        super().__init__()\n",
    "        self.system_prompt = \"\"\"You are an interviewer evaluating a candidate's response to an interview question. Your task is to:\n",
    "- Evaluate the candidate's response on the scale of \"good\", \"average\", and \"bad\".\n",
    "- Provide a reason for why it's categorized as good, average, or bad.\n",
    "- Offer constructive feedback or suggestions for improvement.\n",
    "- Provide two samples of good responses.\n",
    "\n",
    "You will be provided with an interview question and a candidate response.\n",
    "\n",
    "Evaluate and provide output in the following JSON format:\n",
    "{\n",
    "    \"evaluation\": \"good, average, or bad\",\n",
    "    \"reason\": \"Reason why it's good, average, or bad\",\n",
    "    \"feedback\": \"Feedback or suggestions for improvement\",\n",
    "    \"sample\": [\n",
    "        \"Good sample response 1\",\n",
    "        \"Good sample response 2\"\n",
    "    ]\n",
    "}\"\"\"\n",
    "        self.user_prompt = \"\"\"QUESTION:\n",
    "{question} \n",
    "RESPONSE: {response}\"\"\"\n",
    "\n",
    "    def __call__(self, question: str, response: str) -> dict[str, str]:\n",
    "        \"\"\"\n",
    "        Evaluate a candidate's response to an interview question.\n",
    "\n",
    "        Args:\n",
    "            question (str): The interview question.\n",
    "            response (str): The candidate's response.\n",
    "\n",
    "        Returns:\n",
    "            dict: The evaluation of the candidate's response.\n",
    "        \"\"\"\n",
    "\n",
    "        # Generate questions\n",
    "        evaluation = self._generate(question, response)\n",
    "\n",
    "        return evaluation\n",
    "\n",
    "    def run(self, question: str, response: str) -> dict[str, str]:\n",
    "        \"\"\"\n",
    "        Evaluate a candidate's response to an interview question.\n",
    "\n",
    "        Args:\n",
    "            question (str): The interview question.\n",
    "            response (str): The candidate's response.\n",
    "\n",
    "        Returns:\n",
    "            dict: The evaluation of the candidate's response.\n",
    "        \"\"\"\n",
    "\n",
    "        # Generate questions\n",
    "        evaluation = self._generate(question, response)\n",
    "\n",
    "        return evaluation\n",
    "\n",
    "    def _generate(self, question: str, response: str) -> dict[str, str]:\n",
    "        \"\"\"\n",
    "        Evaluate a candidate's response to an interview question.\n",
    "\n",
    "        Args:\n",
    "            question (str): The interview question.\n",
    "            response (str): The candidate's response.\n",
    "\n",
    "        Returns:\n",
    "            dict: The evaluation of the candidate's response.\n",
    "        \"\"\"\n",
    "\n",
    "        try:\n",
    "            output = client.chat.completions.create(\n",
    "                model=\"gpt-3.5-turbo-1106\",\n",
    "                messages=[\n",
    "                    {\n",
    "                        \"role\": \"system\",\n",
    "                        \"content\": self.system_prompt,\n",
    "                    },\n",
    "                    {\n",
    "                        \"role\": \"user\",\n",
    "                        \"content\": self.user_prompt.format(question=question, response=response),\n",
    "                    },\n",
    "                ],\n",
    "                temperature=0.5,\n",
    "                max_tokens=1024,\n",
    "                top_p=1,\n",
    "                frequency_penalty=0,\n",
    "                presence_penalty=0,\n",
    "            )\n",
    "\n",
    "            questions = json.loads(output.choices[0].message.content or \"{}\")\n",
    "\n",
    "            return questions\n",
    "        except Exception as e:\n",
    "            print(e)\n",
    "            return {}\n",
    "\n"
   ]
  },
  {
   "cell_type": "code",
   "execution_count": 6,
   "metadata": {},
   "outputs": [
    {
     "name": "stdout",
     "output_type": "stream",
     "text": [
      "{'evaluation': 'average',\n",
      " 'feedback': 'The candidate should try to add more depth to their response by '\n",
      "             'sharing specific experiences or projects that fueled their '\n",
      "             'interest in technology and startups. It would also be beneficial '\n",
      "             \"to mention how the candidate's skills and goals align with the \"\n",
      "             'startup environment.',\n",
      " 'reason': \"The response provides a basic explanation of the candidate's \"\n",
      "           'interest in technology and startups, but it lacks specific details '\n",
      "           'or personal anecdotes to make it stand out.',\n",
      " 'sample': ['One of the pivotal moments that inspired me to pursue a career in '\n",
      "            'software engineering was when I developed a mobile app for a '\n",
      "            'small business during my college years. Witnessing the impact of '\n",
      "            'technology on a growing venture fueled my passion for creating '\n",
      "            'innovative solutions and collaborating with like-minded '\n",
      "            'individuals in a startup setting.']}\n"
     ]
    }
   ],
   "source": [
    "response_evaluator = ResponseEvaluationAgentV1()\n",
    "evaluation = response_evaluator.run(\n",
    "    \"What motivated you to pursue a career in software engineering at a startup in San Francisco?\",\n",
    "    \"I've always been interested in technology and startups. I've been working in the tech industry for the past 5 years and I've always wanted to work at a startup. I'm really excited about the opportunity to work at a startup in San Francisco.\"\n",
    ")\n",
    "\n",
    "pprint(evaluation)"
   ]
  },
  {
   "cell_type": "code",
   "execution_count": null,
   "metadata": {},
   "outputs": [],
   "source": []
  }
 ],
 "metadata": {
  "kernelspec": {
   "display_name": ".venv",
   "language": "python",
   "name": "python3"
  },
  "language_info": {
   "codemirror_mode": {
    "name": "ipython",
    "version": 3
   },
   "file_extension": ".py",
   "mimetype": "text/x-python",
   "name": "python",
   "nbconvert_exporter": "python",
   "pygments_lexer": "ipython3",
   "version": "3.10.12"
  }
 },
 "nbformat": 4,
 "nbformat_minor": 2
}
