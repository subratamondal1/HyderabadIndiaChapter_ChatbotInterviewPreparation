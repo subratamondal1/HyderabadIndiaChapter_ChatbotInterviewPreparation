{
 "cells": [
  {
   "cell_type": "markdown",
   "metadata": {},
   "source": [
    "# 06 - Cohere Interview Response Evaluation\n",
    "`Author: Abdlazeez Jimoh`"
   ]
  },
  {
   "cell_type": "code",
   "execution_count": 3,
   "metadata": {},
   "outputs": [],
   "source": [
    "import json\n",
    "from pprint import pprint\n",
    "from typing import Literal, TypedDict\n",
    "\n",
    "import cohere"
   ]
  },
  {
   "cell_type": "code",
   "execution_count": 8,
   "metadata": {},
   "outputs": [],
   "source": [
    "COHERE_API_KEY = \"YOUR_API_KEY\""
   ]
  },
  {
   "cell_type": "code",
   "execution_count": 9,
   "metadata": {},
   "outputs": [],
   "source": [
    "class Question(TypedDict):\n",
    "    question: str\n",
    "    type: Literal[\"personal\", \"role-specific\", \"behavioral\", \"situational\"]\n",
    "\n",
    "\n",
    "class Evaluation(TypedDict):\n",
    "    evaluation: Literal[\"good\", \"average\", \"bad\"]\n",
    "    feedback: str | None\n",
    "    reason: str | None\n",
    "    samples: list[str] | None"
   ]
  },
  {
   "cell_type": "code",
   "execution_count": 10,
   "metadata": {},
   "outputs": [],
   "source": [
    "class CohereResponseEvaluationAgent:\n",
    "    def __init__(self):\n",
    "        self.client = cohere.Client(COHERE_API_KEY)\n",
    "        self.system_prompt = \"\"\"You are an interviewer evaluating a candidate's response to an interview question. Your task is to:\n",
    "- Evaluate the candidate's response on the scale of \"good\", \"average\", and \"bad\".\n",
    "- Provide a reason for why it's categorized as good, average, or bad.\n",
    "- Offer constructive feedback or suggestions for improvement.\n",
    "- Provide 2 samples of good responses.\n",
    "\n",
    "You will be provided with an interview question and a candidate response.\n",
    "\n",
    "Evaluate and provide output in the following JSON format:\n",
    "{{\n",
    "    \"evaluation\": \"good, average, or bad\",\n",
    "    \"reason\": \"Reason why it's good, average, or bad\",\n",
    "    \"feedback\": \"Feedback or suggestions for improvement\",\n",
    "    \"samples\": [\n",
    "        \"Good response 1\", \n",
    "        \"Good response 2\"\n",
    "    ]\n",
    "}}\n",
    "\n",
    "\n",
    "===\n",
    "QUESTION:\n",
    "{question}\n",
    "\n",
    "RESPONSE: \n",
    "{response}\"\"\"\n",
    "\n",
    "    def __call__(self, question: str, response: str) -> Evaluation | None:\n",
    "        \"\"\"\n",
    "        Evaluate a candidate's response to an interview question.\n",
    "\n",
    "        Args:\n",
    "            question (str): The interview question.\n",
    "            response (str): The candidate's response.\n",
    "\n",
    "        Returns:\n",
    "            Evaluation | None: The evaluation of the candidate's response or None if an error occurred.\n",
    "        \"\"\"\n",
    "\n",
    "        # Generate questions\n",
    "        evaluation = self._generate(question, response)\n",
    "\n",
    "        return evaluation\n",
    "\n",
    "    def run(self, question: str, response: str) -> Evaluation | None:\n",
    "        \"\"\"\n",
    "        Evaluate a candidate's response to an interview question.\n",
    "\n",
    "        Args:\n",
    "            question (str): The interview question.\n",
    "            response (str): The candidate's response.\n",
    "\n",
    "        Returns:\n",
    "            Evaluation | None: The evaluation of the candidate's response or None if an error occurred.\n",
    "        \"\"\"\n",
    "\n",
    "        # Generate questions\n",
    "        evaluation = self._generate(question, response)\n",
    "\n",
    "        return evaluation\n",
    "\n",
    "    def _generate(self, question: str, response: str) -> Evaluation | None:\n",
    "        \"\"\"\n",
    "        Evaluate a candidate's response to an interview question.\n",
    "\n",
    "        Args:\n",
    "            question (str): The interview question.\n",
    "            response (str): The candidate's response.\n",
    "\n",
    "        Returns:\n",
    "            Evaluation | None: The evaluation of the candidate's response or None if an error occurred.\n",
    "        \"\"\"\n",
    "\n",
    "        try:\n",
    "            output = self.client.generate(\n",
    "                model=\"command\",\n",
    "                prompt=self.system_prompt.format(question=question, response=response),\n",
    "                temperature=1,\n",
    "                max_tokens=1024,\n",
    "            )\n",
    "\n",
    "            evaluations = json.loads(output.generations[0].text)\n",
    "\n",
    "            return evaluations\n",
    "        except Exception as e:\n",
    "            return None"
   ]
  },
  {
   "cell_type": "code",
   "execution_count": 11,
   "metadata": {},
   "outputs": [
    {
     "name": "stdout",
     "output_type": "stream",
     "text": [
      "{'evaluation': 'good',\n",
      " 'feedback': 'It would be helpful to hear more about what specifically '\n",
      "             'motivated them about working at a startup over a larger company, '\n",
      "             'or more specifically about working in San Francisco. This would '\n",
      "             'provide more insight into their values and goals.',\n",
      " 'reason': 'The candidate provides a clear reason for their career choice, '\n",
      "           'stating their interest in both technology and startups. This '\n",
      "           'demonstrates a sincere passion and alignment with the field of '\n",
      "           'software engineering and the startup environment.',\n",
      " 'samples': ['I pursued a career in software engineering at a startup in San '\n",
      "             'Francisco because I believe that startups provide an environment '\n",
      "             'of rapid personal and professional growth, where I can take on '\n",
      "             'diverse responsibilities and have a direct impact on the '\n",
      "             \"company's trajectory. I am excited about the opportunities to \"\n",
      "             'collaborate with other innovative thinkers in the city known for '\n",
      "             'its vibrant tech industry.',\n",
      "             'Working in the tech industry for the past five years has exposed '\n",
      "             'me to the vibrant culture of startups and I am eager to be a '\n",
      "             'part of this community in San Francisco, where I can network '\n",
      "             'with like-minded individuals and attend various workshops and '\n",
      "             'conferences to enhance my skills.']}\n"
     ]
    }
   ],
   "source": [
    "response_evaluator = CohereResponseEvaluationAgent()\n",
    "evaluation = response_evaluator.run(\n",
    "    \"What motivated you to pursue a career in software engineering at a startup in San Francisco?\",\n",
    "    \"I've always been interested in technology and startups. I've been working in the tech industry for the past 5 years and I've always wanted to work at a startup. I'm really excited about the opportunity to work at a startup in San Francisco.\"\n",
    ")\n",
    "\n",
    "pprint(evaluation)"
   ]
  },
  {
   "cell_type": "code",
   "execution_count": 12,
   "metadata": {},
   "outputs": [
    {
     "name": "stdout",
     "output_type": "stream",
     "text": [
      "{'evaluation': 'good',\n",
      " 'feedback': 'It would be helpful to hear more about the specific tools or '\n",
      "             'frameworks the candidate utilizes to manage tasks and team '\n",
      "             'communication. Additionally, discussing how they handle '\n",
      "             'situations where priorities or deadlines shift could provide '\n",
      "             'insight into their adaptability and problem-solving skills.',\n",
      " 'reason': 'The candidate discusses how they prioritize tasks by importance '\n",
      "           'and urgency, which is a good approach to managing tasks. They also '\n",
      "           'highlight the importance of communication with their team, which '\n",
      "           'is crucial for effective task management and collaboration.',\n",
      " 'samples': ['I utilize the Eisenhower Matrix (urgent vs. important) to '\n",
      "             'efficiently organize and delegate tasks. This ensures that both '\n",
      "             'urgent and important tasks are given proper attention, while '\n",
      "             'also providing a framework for my team to follow. Additionally, '\n",
      "             'I rely on regular stand-up meetings and slack channels to '\n",
      "             'maintain open communication and update team members on changing '\n",
      "             'priorities.',\n",
      "             'When juggling multiple projects, I find it effective to '\n",
      "             'implement a project management tool like Asana or Jira. These '\n",
      "             'tools help me create a centralized platform where tasks can be '\n",
      "             'assigned, prioritized, and updated in real-time. This ensures '\n",
      "             'that my team always works on the most current tasks according to '\n",
      "             'priority.']}\n"
     ]
    }
   ],
   "source": [
    "evaluation = response_evaluator.run(\n",
    "    \"How do you prioritize tasks when leading a team of data scientists and engineers on multiple projects?\",\n",
    "    \"I prioritize tasks by importance and urgency. I also make sure to communicate with my team about what needs to be done and when it needs to be done. I also make sure to communicate with my team about what needs to be done and when it needs to be done.\",\n",
    ")\n",
    "\n",
    "pprint(evaluation)"
   ]
  },
  {
   "cell_type": "code",
   "execution_count": null,
   "metadata": {},
   "outputs": [],
   "source": []
  }
 ],
 "metadata": {
  "kernelspec": {
   "display_name": ".venv",
   "language": "python",
   "name": "python3"
  },
  "language_info": {
   "codemirror_mode": {
    "name": "ipython",
    "version": 3
   },
   "file_extension": ".py",
   "mimetype": "text/x-python",
   "name": "python",
   "nbconvert_exporter": "python",
   "pygments_lexer": "ipython3",
   "version": "3.10.12"
  }
 },
 "nbformat": 4,
 "nbformat_minor": 2
}
