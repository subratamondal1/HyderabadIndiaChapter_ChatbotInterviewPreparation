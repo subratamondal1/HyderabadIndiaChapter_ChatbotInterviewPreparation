{
 "cells": [
  {
   "cell_type": "markdown",
   "metadata": {},
   "source": [
    "# 04 - Palm Based Interview Response Evaluation\n",
    "`Author: Abdlazeez Jimoh`"
   ]
  },
  {
   "cell_type": "code",
   "execution_count": 1,
   "metadata": {},
   "outputs": [],
   "source": [
    "import importlib\n",
    "import json\n",
    "from pprint import pprint\n",
    "from typing import Optional\n",
    "\n",
    "from typing_extensions import Literal, TypedDict"
   ]
  },
  {
   "cell_type": "code",
   "execution_count": 2,
   "metadata": {},
   "outputs": [],
   "source": [
    "PALM_API_KEY = \"YOUR_API_KEY\""
   ]
  },
  {
   "cell_type": "code",
   "execution_count": 3,
   "metadata": {},
   "outputs": [],
   "source": [
    "class Question(TypedDict):\n",
    "    question: str\n",
    "    type: Literal[\"personal\", \"role-specific\", \"behavioral\", \"situational\"]\n",
    "\n",
    "\n",
    "class Evaluation(TypedDict):\n",
    "    evaluation: Literal[\"good\", \"average\", \"bad\"] | None\n",
    "    feedback: str | None\n",
    "    reason: str | None\n",
    "    samples: list[str] | None"
   ]
  },
  {
   "cell_type": "code",
   "execution_count": 16,
   "metadata": {},
   "outputs": [],
   "source": [
    "class PalmResponseEvaluationAgent:\n",
    "    def __init__(self):\n",
    "        self.client = importlib.import_module(\"google.generativeai\")\n",
    "        self.client.configure(api_key=PALM_API_KEY)\n",
    "        self.system_prompt = \"\"\"You are an interviewer evaluating a candidate's response to an interview question. Your task is to:\n",
    "- Evaluate the candidate's response on the scale of \"good\", \"average\", and \"bad\".\n",
    "- Provide a reason for why it's categorized as good, average, or bad.\n",
    "- Offer constructive feedback or suggestions for improvement.\n",
    "- Provide 2 samples of good responses.\n",
    "\n",
    "You will be provided with an interview question and a candidate response.\n",
    "\n",
    "Evaluate and provide output in the following JSON format:\n",
    "{{\n",
    "    \"evaluation\": \"good, average, or bad\",\n",
    "    \"reason\": \"Reason why it's good, average, or bad\",\n",
    "    \"feedback\": \"Feedback or suggestions for improvement\",\n",
    "    \"samples\": [\n",
    "        \"Good response 1\", \n",
    "        \"Good response 2\"\n",
    "    ]\n",
    "}}\n",
    "\n",
    "\n",
    "===\n",
    "QUESTION:\n",
    "{question}\n",
    "\n",
    "RESPONSE: \n",
    "{response}\"\"\"\n",
    "\n",
    "    def __call__(self, question: str, response: str) -> Optional[Evaluation]:\n",
    "        \"\"\"\n",
    "        Evaluate a candidate's response to an interview question.\n",
    "\n",
    "        Args:\n",
    "            question (str): The interview question.\n",
    "            response (str): The candidate's response.\n",
    "\n",
    "        Returns:\n",
    "            Optional[Evaluation]: The evaluation of the candidate's response or None if an error occurred.\n",
    "        \"\"\"\n",
    "\n",
    "        # Generate questions\n",
    "        evaluation = self._generate(question, response)\n",
    "\n",
    "        return evaluation\n",
    "\n",
    "    def run(self, question: str, response: str) -> Optional[Evaluation]:\n",
    "        \"\"\"\n",
    "        Evaluate a candidate's response to an interview question.\n",
    "\n",
    "        Args:\n",
    "            question (str): The interview question.\n",
    "            response (str): The candidate's response.\n",
    "\n",
    "        Returns:\n",
    "            Optional[Evaluation]: The evaluation of the candidate's response or None if an error occurred.\n",
    "        \"\"\"\n",
    "\n",
    "        # Generate questions\n",
    "        evaluation = self._generate(question, response)\n",
    "\n",
    "        return evaluation\n",
    "\n",
    "    def _generate(self, question: str, response: str) -> Optional[Evaluation]:\n",
    "        \"\"\"\n",
    "        Evaluate a candidate's response to an interview question.\n",
    "\n",
    "        Args:\n",
    "            question (str): The interview question.\n",
    "            response (str): The candidate's response.\n",
    "\n",
    "        Returns:\n",
    "            Optional[Evaluation]: The evaluation of the candidate's response or None if an error occurred.\n",
    "        \"\"\"\n",
    "\n",
    "        try:\n",
    "            output = self.client.generate_text(\n",
    "                model=\"models/text-bison-001\",\n",
    "                prompt=self.system_prompt.format(question=question, response=response),\n",
    "                temperature=1,\n",
    "                max_output_tokens=1024,\n",
    "            )\n",
    "\n",
    "            evaluations = json.loads(output.result)\n",
    "\n",
    "            return evaluations\n",
    "        except Exception as e:\n",
    "            return None"
   ]
  },
  {
   "cell_type": "code",
   "execution_count": 17,
   "metadata": {},
   "outputs": [
    {
     "name": "stdout",
     "output_type": "stream",
     "text": [
      "{'evaluation': 'good',\n",
      " 'feedback': 'None',\n",
      " 'reason': 'The candidate provides a clear and concise answer that '\n",
      "           'demonstrates their interest in the position.',\n",
      " 'samples': [\"I've always been passionate about technology and I'm excited \"\n",
      "             'about the opportunity to work at a startup where I can have a '\n",
      "             'direct impact on the product.',\n",
      "             \"I'm looking for a fast-paced, challenging environment where I \"\n",
      "             'can learn and grow as a software engineer.']}\n"
     ]
    }
   ],
   "source": [
    "response_evaluator = PalmResponseEvaluationAgent()\n",
    "evaluation = response_evaluator.run(\n",
    "    \"What motivated you to pursue a career in software engineering at a startup in San Francisco?\",\n",
    "    \"I've always been interested in technology and startups. I've been working in the tech industry for the past 5 years and I've always wanted to work at a startup. I'm really excited about the opportunity to work at a startup in San Francisco.\"\n",
    ")\n",
    "\n",
    "pprint(evaluation)"
   ]
  },
  {
   "cell_type": "code",
   "execution_count": 18,
   "metadata": {},
   "outputs": [
    {
     "name": "stdout",
     "output_type": "stream",
     "text": [
      "{'evaluation': 'good',\n",
      " 'feedback': 'None.',\n",
      " 'reason': 'The candidate provides a clear and concise answer that addresses '\n",
      "           'the question.',\n",
      " 'samples': ['I prioritize tasks based on the following criteria: (1) business '\n",
      "             'impact, (2) urgency, (3) dependencies, and (4) resources '\n",
      "             'required.',\n",
      "             \"I use a Kanban board to visualize my team's progress and to \"\n",
      "             'track our tasks. This helps me to identify bottlenecks and to '\n",
      "             'ensure that we are working on the most important tasks first.']}\n"
     ]
    }
   ],
   "source": [
    "evaluation = response_evaluator.run(\n",
    "    \"How do you prioritize tasks when leading a team of data scientists and engineers on multiple projects?\",\n",
    "    \"I prioritize tasks by importance and urgency. I also make sure to communicate with my team about what needs to be done and when it needs to be done. I also make sure to communicate with my team about what needs to be done and when it needs to be done.\",\n",
    ")\n",
    "\n",
    "pprint(evaluation)"
   ]
  },
  {
   "cell_type": "code",
   "execution_count": null,
   "metadata": {},
   "outputs": [],
   "source": []
  }
 ],
 "metadata": {
  "kernelspec": {
   "display_name": ".venv",
   "language": "python",
   "name": "python3"
  },
  "language_info": {
   "codemirror_mode": {
    "name": "ipython",
    "version": 3
   },
   "file_extension": ".py",
   "mimetype": "text/x-python",
   "name": "python",
   "nbconvert_exporter": "python",
   "pygments_lexer": "ipython3",
   "version": "3.10.12"
  }
 },
 "nbformat": 4,
 "nbformat_minor": 2
}
