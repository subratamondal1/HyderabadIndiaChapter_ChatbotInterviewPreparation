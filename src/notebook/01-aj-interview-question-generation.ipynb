{
 "cells": [
  {
   "cell_type": "markdown",
   "metadata": {},
   "source": [
    "# 01 - Interview Question Generation\n",
    "`Author: Abdlazeez Jimoh`"
   ]
  },
  {
   "cell_type": "code",
   "execution_count": 11,
   "metadata": {},
   "outputs": [
    {
     "data": {
      "text/plain": [
       "True"
      ]
     },
     "execution_count": 11,
     "metadata": {},
     "output_type": "execute_result"
    }
   ],
   "source": [
    "from openai import OpenAI\n",
    "import json\n",
    "import pprint\n",
    "from dotenv import load_dotenv, find_dotenv\n",
    "\n",
    "load_dotenv(find_dotenv())"
   ]
  },
  {
   "cell_type": "code",
   "execution_count": 8,
   "metadata": {},
   "outputs": [],
   "source": [
    "client = OpenAI()"
   ]
  },
  {
   "cell_type": "code",
   "execution_count": 19,
   "metadata": {},
   "outputs": [
    {
     "name": "stdout",
     "output_type": "stream",
     "text": [
      "{'questions': [{'question': 'What inspired you to become a science fiction '\n",
      "                            'author?',\n",
      "                'question_type': 'personal'},\n",
      "               {'question': 'Can you describe your process for creating '\n",
      "                            'believable and immersive futuristic worlds in '\n",
      "                            'your writing?',\n",
      "                'question_type': 'role-specific'},\n",
      "               {'question': \"Tell me about a time when you faced writer's \"\n",
      "                            'block and how you overcame it.',\n",
      "                'question_type': 'behavioural'},\n",
      "               {'question': 'How do you handle constructive criticism of your '\n",
      "                            'work, especially when it comes to the scientific '\n",
      "                            'or technological aspects of your stories?',\n",
      "                'question_type': 'behavioural'},\n",
      "               {'question': 'If you were approached to write a science fiction '\n",
      "                            'series for a popular streaming platform, how '\n",
      "                            'would you approach the opportunity?',\n",
      "                'question_type': 'situational'},\n",
      "               {'question': 'How do you balance the need for scientific '\n",
      "                            'accuracy with the creative liberties often taken '\n",
      "                            'in science fiction writing?',\n",
      "                'question_type': 'role-specific'},\n",
      "               {'question': 'Describe a situation where you had to collaborate '\n",
      "                            'with other writers or experts in a different '\n",
      "                            'field to ensure accuracy in your science fiction '\n",
      "                            'work.',\n",
      "                'question_type': 'situational'},\n",
      "               {'question': 'What do you think sets your science fiction '\n",
      "                            'writing apart from others in the genre?',\n",
      "                'question_type': 'personal'}]}\n"
     ]
    }
   ],
   "source": [
    "response = client.chat.completions.create(\n",
    "    model=\"gpt-3.5-turbo-1106\",\n",
    "    messages=[\n",
    "        {\n",
    "            \"role\": \"system\",\n",
    "            \"content\": 'You are a non-technical interviewer that generate at least 4 interview questions across the following categories:\\n- personal\\n- role-specific\\n- behavioural\\n- situational\\n\\nMake sure there is a question for each category.\\n\\nYou answer strictly as single JSON string. Don\\'t include any other verbose texts and don\\'t include the markdown syntax anywhere.\\n\\nJSON format:\\n[{\"question\": \"<question>\", \"question_type\": \"<question_type>\"}]',\n",
    "        },\n",
    "        {\n",
    "            \"role\": \"user\",\n",
    "            \"content\": \"Create a list of 8 questions for an interview with a science fiction author.\",\n",
    "        },\n",
    "    ],\n",
    "    temperature=0.5,\n",
    "    max_tokens=1024,\n",
    "    top_p=1,\n",
    "    frequency_penalty=0,\n",
    "    presence_penalty=0,\n",
    "    response_format={\n",
    "        \"type\": \"json_object\",\n",
    "    },\n",
    ")\n",
    "\n",
    "pprint.pprint(json.loads(response.choices[0].message.content or \"{}\"))"
   ]
  },
  {
   "cell_type": "code",
   "execution_count": 30,
   "metadata": {},
   "outputs": [],
   "source": [
    "class BaseAgent:\n",
    "    def __init__(self):\n",
    "        self.client = OpenAI()\n",
    "        self.system_prompt = None\n",
    "        self.user_prompt = None\n",
    "\n",
    "    def __call__(self, *args, **kwargs):\n",
    "        raise NotImplementedError\n",
    "\n",
    "\n",
    "class QuestionGeneratorAgent(BaseAgent):\n",
    "    def __init__(self):\n",
    "        super().__init__()\n",
    "        self.system_prompt = 'You are a non-technical interviewer that generate at least 4 interview questions across the following categories:\\n- personal\\n- role-specific\\n- behavioural\\n- situational\\n\\nMake sure there is a question for each category.\\n\\nYou answer strictly as single JSON string. Don\\'t include any other verbose texts and don\\'t include the markdown syntax anywhere.\\n\\nJSON format:\\n[{\"question\": \"<question>\", \"question_type\": \"<question_type>\"}]'\n",
    "        self.user_prompt = (\n",
    "            \"Create a list of {n_questions} questions for an interview with {description}.\"\n",
    "        )\n",
    "\n",
    "    def __call__(self, description: str, n_questions: int = 5) -> list[dict[str, str]]:\n",
    "        \"\"\"\n",
    "        Generate interview questions based on the given description.\n",
    "\n",
    "        Args:\n",
    "            description (str): The description used as input for question generation.\n",
    "            n_questions (int, optional): The number of questions to generate. Defaults to 5.\n",
    "\n",
    "        Returns:\n",
    "            list: A list of generated interview questions.\n",
    "        \"\"\"\n",
    "\n",
    "        # Generate questions\n",
    "        questions = self._generate(description, n_questions)\n",
    "\n",
    "        return questions\n",
    "\n",
    "    def run(self, description: str, n_questions: int = 5) -> list[dict[str, str]]:\n",
    "        \"\"\"\n",
    "        Generate interview questions based on the given description.\n",
    "\n",
    "        Args:\n",
    "            description (str): The description used as input for question generation.\n",
    "            n_questions (int, optional): The number of questions to generate. Defaults to 5.\n",
    "\n",
    "        Returns:\n",
    "            list: A list of generated interview questions.\n",
    "        \"\"\"\n",
    "\n",
    "        # Generate questions\n",
    "        questions = self._generate(description, n_questions)\n",
    "\n",
    "        return questions\n",
    "\n",
    "    def _generate(self, description: str, n_questions: int) -> list[dict[str, str]]:\n",
    "        \"\"\"\n",
    "        Generate interview questions based on the given description.\n",
    "\n",
    "        Args:\n",
    "            description (str): The description used as input for question generation.\n",
    "            n_questions (int): The number of questions to generate.\n",
    "\n",
    "        Returns:\n",
    "            list: A list of generated interview questions.\n",
    "        \"\"\"\n",
    "\n",
    "        try:\n",
    "            response = client.chat.completions.create(\n",
    "                model=\"gpt-3.5-turbo-1106\",\n",
    "                messages=[\n",
    "                    {\n",
    "                        \"role\": \"system\",\n",
    "                        \"content\": self.system_prompt,\n",
    "                    },\n",
    "                    {\n",
    "                        \"role\": \"user\",\n",
    "                        \"content\": self.user_prompt.format(\n",
    "                            n_questions=n_questions, description=description\n",
    "                        ),\n",
    "                    },\n",
    "                ],\n",
    "                temperature=0.5,\n",
    "                max_tokens=1024,\n",
    "                top_p=1,\n",
    "                frequency_penalty=0,\n",
    "                presence_penalty=0,\n",
    "            )\n",
    "            pprint.pprint(json.loads(response.choices[0].message.content or \"[]\"))\n",
    "\n",
    "            questions = json.loads(response.choices[0].message.content or \"[]\")\n",
    "\n",
    "            return questions\n",
    "        except Exception as e:\n",
    "            print(e)\n",
    "            return []"
   ]
  },
  {
   "cell_type": "code",
   "execution_count": 31,
   "metadata": {},
   "outputs": [
    {
     "name": "stdout",
     "output_type": "stream",
     "text": [
      "[{'question': 'Tell me about a time when you had to adapt to a new technology '\n",
      "              'or programming language. How did you approach the learning '\n",
      "              'process?',\n",
      "  'question_type': 'behavioural'},\n",
      " {'question': 'Can you describe a project where you had to balance tight '\n",
      "              'deadlines with maintaining code quality? How did you manage the '\n",
      "              'trade-offs?',\n",
      "  'question_type': 'behavioural'},\n",
      " {'question': 'How do you stay updated with the latest trends and developments '\n",
      "              \"in software engineering? Can you give an example of how you've \"\n",
      "              'applied this knowledge in your work?',\n",
      "  'question_type': 'role-specific'},\n",
      " {'question': 'Imagine you are working on a project with a tight deadline and '\n",
      "              'the requirements suddenly change. How would you handle this '\n",
      "              'situation?',\n",
      "  'question_type': 'situational'},\n",
      " {'question': 'What motivates you to work in a startup environment, and what '\n",
      "              'unique contributions do you believe you can make to our team?',\n",
      "  'question_type': 'personal'}]\n",
      "[{'question': 'Tell me about a time when you had to adapt to a new technology or programming language. How did you approach the learning process?', 'question_type': 'behavioural'}, {'question': 'Can you describe a project where you had to balance tight deadlines with maintaining code quality? How did you manage the trade-offs?', 'question_type': 'behavioural'}, {'question': \"How do you stay updated with the latest trends and developments in software engineering? Can you give an example of how you've applied this knowledge in your work?\", 'question_type': 'role-specific'}, {'question': 'Imagine you are working on a project with a tight deadline and the requirements suddenly change. How would you handle this situation?', 'question_type': 'situational'}, {'question': 'What motivates you to work in a startup environment, and what unique contributions do you believe you can make to our team?', 'question_type': 'personal'}]\n"
     ]
    }
   ],
   "source": [
    "question_generator = QuestionGeneratorAgent()\n",
    "questions = question_generator.run(\n",
    "    \"a software engineer at a startup in San Francisco. I have 5 years of experience and I'm looking for a new job.\"\n",
    ")\n",
    "\n",
    "print(questions)"
   ]
  },
  {
   "cell_type": "code",
   "execution_count": null,
   "metadata": {},
   "outputs": [],
   "source": []
  }
 ],
 "metadata": {
  "kernelspec": {
   "display_name": ".venv",
   "language": "python",
   "name": "python3"
  },
  "language_info": {
   "codemirror_mode": {
    "name": "ipython",
    "version": 3
   },
   "file_extension": ".py",
   "mimetype": "text/x-python",
   "name": "python",
   "nbconvert_exporter": "python",
   "pygments_lexer": "ipython3",
   "version": "3.10.12"
  }
 },
 "nbformat": 4,
 "nbformat_minor": 2
}
